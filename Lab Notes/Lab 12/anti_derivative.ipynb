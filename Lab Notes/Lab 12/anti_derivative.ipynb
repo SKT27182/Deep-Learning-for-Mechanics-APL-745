{
  "nbformat": 4,
  "nbformat_minor": 0,
  "metadata": {
    "colab": {
      "provenance": []
    },
    "kernelspec": {
      "name": "python3",
      "display_name": "Python 3"
    },
    "language_info": {
      "name": "python"
    }
  },
  "cells": [
    {
      "cell_type": "markdown",
      "source": [
        "**Import Required Libraries**"
      ],
      "metadata": {
        "id": "uR9Osd0EdA0T"
      }
    },
    {
      "cell_type": "code",
      "source": [
        "import torch     \n",
        "from torch import Tensor                  \n",
        "import torch.nn as nn                 \n",
        "import torch.optim as optim              \n",
        "import matplotlib.pyplot as plt\n",
        "import numpy as np\n",
        "import itertools\n",
        "from collections import OrderedDict"
      ],
      "metadata": {
        "id": "hhjDdUAldFv8"
      },
      "execution_count": null,
      "outputs": []
    },
    {
      "cell_type": "code",
      "source": [
        "# Device\n",
        "device = torch.device('cuda' if torch.cuda.is_available() else 'cpu')\n",
        "\n",
        "print(device)\n",
        "\n",
        "if device == 'cuda': \n",
        "    print(torch.cuda.get_device_name())"
      ],
      "metadata": {
        "id": "idoAL7eXc2zj"
      },
      "execution_count": null,
      "outputs": []
    },
    {
      "cell_type": "markdown",
      "source": [
        "Skip the part if you are running your code in local system"
      ],
      "metadata": {
        "id": "WeGTcD45c__U"
      }
    },
    {
      "cell_type": "code",
      "source": [
        "from google.colab import drive\n",
        "drive.mount('/content/drive')"
      ],
      "metadata": {
        "id": "KhTDvmj6c6wD"
      },
      "execution_count": null,
      "outputs": []
    },
    {
      "cell_type": "markdown",
      "source": [
        "Load the training data from numpy"
      ],
      "metadata": {
        "id": "i1feBunPdT5z"
      }
    },
    {
      "cell_type": "code",
      "source": [
        "d = np.load(\"/content/drive/My Drive/antiderivative_aligned_train.npz\", allow_pickle=True)\n",
        "y_train=d[\"X\"][1].astype(np.float32) #output locations (100,1)\n",
        "u_train = d[\"X\"][0].astype(np.float32) # input functions (150,100)\n",
        "s_train = d[\"y\"].astype(np.float32) # output functions (150,100)"
      ],
      "metadata": {
        "id": "1tEEnMhddZI9"
      },
      "execution_count": null,
      "outputs": []
    },
    {
      "cell_type": "markdown",
      "source": [
        "**Define Network Archietecture**"
      ],
      "metadata": {
        "id": "R6zRHp41dd3L"
      }
    },
    {
      "cell_type": "code",
      "source": [
        "# the deep neural network\n",
        "class DNN(torch.nn.Module):\n",
        "    def __init__(self, layers):\n",
        "        #define your sequential model here with activations \n",
        "        \n",
        "    def forward(self, x): #forward pass\n",
        "        out = self.layers(x)\n",
        "        return out   "
      ],
      "metadata": {
        "id": "jxZxN8Z8dhXc"
      },
      "execution_count": null,
      "outputs": []
    },
    {
      "cell_type": "markdown",
      "source": [
        "**The DeepONet Archietecture**"
      ],
      "metadata": {
        "id": "33iBiiE3eAtk"
      }
    },
    {
      "cell_type": "code",
      "source": [
        "class PI_DeepONet():\n",
        "    def __init__(self, branch_layers, trunk_layers,u_train, y_train, s_train):\n",
        "        \n",
        "        self.u_train =        #convert to torch tensor\n",
        "        self.y_train =        #convert to torch tensor\n",
        "        self.s_train =        #convert to torch tensor\n",
        "        \n",
        "        \n",
        "        self.branch_net = DNN(branch_layers).to(device)  # The branch Network\n",
        "\n",
        "        self.trunk_net = DNN(trunk_layers).to(device)    # The trunk Network\n",
        "        \n",
        "        branch_params =                #extract the network Parameters in list format\n",
        "        trunk_params =                 #extract the network Parameters\n",
        "        params = branch_params+trunk_params\n",
        "        \n",
        "        self.optimizer =torch.optim.LBFGS(params, #########\n",
        "                              #######)\n",
        "\n",
        "        self.optimizer_Adam = torch.optim.Adam(params, lr=0.01)\n",
        "\n",
        "        self.iter = 0    #initiate iteration\n",
        "\n",
        "    \n",
        "    def operator_net(self,  u, y):    # Define DeepONet architecture\n",
        "        B = self.branch_net(u) #output from branch Network\n",
        "        T = self.trunk_net(y)  #output from branch Network \n",
        "\n",
        "        output = torch.matmul(B, torch.transpose(T,0,1))\n",
        "        \n",
        "   \n",
        "        return output\n",
        "        \n",
        "    # Define operator loss\n",
        "    def loss_operator(# #):\n",
        "        \n",
        "        pred =          # Compute forward pass     \n",
        "        loss =          # Compute loss\n",
        "        return loss\n",
        "        \n",
        "    def loss_func(self):   #Define loss function for optimization step\n",
        "        loss = self.loss_operator(##)\n",
        "        self.optimizer.zero_grad()\n",
        "        loss.backward()\n",
        "        return loss\n",
        "    \n",
        "    def train(self, nIter):\n",
        "        model_loss=np.array([])\n",
        "        for epoch in range(nIter):\n",
        "            loss= self.loss_operator(self.u_train,self.y_train)\n",
        "            \n",
        "             # Backward and optimize\n",
        "           \n",
        "            self.optimizer_Adam.zero_grad()\n",
        "            loss.backward()\n",
        "            self.optimizer_Adam.step()\n",
        "\n",
        "            model_loss=np.append(model_loss,###)   #get the loss value for each iteration\n",
        "\n",
        "            if epoch % 10 == 0:\n",
        "               # print loss and iteration\n",
        "                \n",
        "        # Backward and optimize\n",
        "        self.optimizer.step(self.loss_func)\n",
        "        \n",
        "        return model_loss \n",
        "             \n",
        "    # Evaluates predictions at test points  \n",
        "    def predict_s(self, u_star,y_star):\n",
        "        #####\n",
        "        ####\n",
        "        s = self.operator_net(u_star, y_star) #predict\n",
        "        s = s.detach().cpu().numpy()\n",
        "        return s"
      ],
      "metadata": {
        "id": "hnZB_EjHeGSU"
      },
      "execution_count": null,
      "outputs": []
    },
    {
      "cell_type": "markdown",
      "source": [
        "**Train the Model**"
      ],
      "metadata": {
        "id": "rhYpc7rKg9Dt"
      }
    },
    {
      "cell_type": "code",
      "source": [
        "# Initialize model\n",
        "\n",
        "branch_layers = [100, 50, 50, 50, 50, 50]\n",
        "trunk_layers =  [1, 50, 50, 50, 50, 50]\n",
        "\n",
        "model = PI_DeepONet(branch_layers, trunk_layers,u_train, y_train, s_train)\n",
        "\n",
        " \n",
        "'Neural Network Summary'\n",
        "print(model)\n",
        "nIter=1000\n",
        "loss=model.train(nIter)"
      ],
      "metadata": {
        "id": "2wSvS3lKg0_V"
      },
      "execution_count": null,
      "outputs": []
    },
    {
      "cell_type": "markdown",
      "source": [
        "**Load Test Data**"
      ],
      "metadata": {
        "id": "ZE3zZH5tg_9Z"
      }
    },
    {
      "cell_type": "code",
      "source": [
        "d = np.load(\"/content/drive/My Drive/antiderivative_aligned_test.npz\", allow_pickle=True) \n",
        "B=d[\"X\"][0].astype(np.float32)\n",
        "u_test = d[\"X\"][0].astype(np.float32); y_test=d[\"X\"][1].astype(np.float32)\n",
        "s_test = d[\"y\"].astype(np.float32)"
      ],
      "metadata": {
        "id": "VcLMsWifhEnj"
      },
      "execution_count": null,
      "outputs": []
    },
    {
      "cell_type": "code",
      "source": [
        "#Model Predictions \n",
        "s_pred = model.predict_s(u_test, y_test)\n",
        "\n",
        "\n",
        "# Plot Visualization"
      ],
      "metadata": {
        "id": "NaWR05AbhI5q"
      },
      "execution_count": null,
      "outputs": []
    }
  ]
}