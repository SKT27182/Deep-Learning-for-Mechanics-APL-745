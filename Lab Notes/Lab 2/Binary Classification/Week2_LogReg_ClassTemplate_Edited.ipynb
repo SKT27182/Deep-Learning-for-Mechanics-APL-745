{
 "cells": [
  {
   "cell_type": "markdown",
   "metadata": {},
   "source": [
    "# Week 03: Logistic Regression\n",
    "\n",
    "## Introduction\n",
    "\n",
    "In this exercise, the logistic regression will be implemented and applied to a given dataset."
   ]
  },
  {
   "cell_type": "code",
   "execution_count": 2,
   "metadata": {},
   "outputs": [],
   "source": [
    "# used for manipulating directory paths\n",
    "import os\n",
    "\n",
    "# Scientific and vector computation for python\n",
    "import numpy as np\n",
    "\n",
    "# Plotting library\n",
    "from matplotlib import pyplot as plt\n",
    "\n",
    "# Library for Scientific computing (Optimization, linear algebra, integration, FFT, ODE solvers etc.)\n",
    "from scipy import optimize\n",
    "\n",
    "# tells matplotlib to embed plots within the notebook\n",
    "%matplotlib inline"
   ]
  },
  {
   "cell_type": "markdown",
   "metadata": {},
   "source": [
    "## Logistic Regression as Linear Classifier\n",
    "\n",
    "In this part of the exercise, we will build a logistic regression model to predict **whether a student gets admitted into a university.**\n",
    "\n",
    "Suppose that the administrator of a university department want to determine each applicant’s chance of admission based on their results on two exams.\n",
    "\n",
    "The historical data from previous applicants can be used as a training set for logistic regression. For each training example, the **applicant’s scores on two exams** and the **admissions decision** is available.\n",
    "\n",
    "The task is to **build a classification model** that estimates an **applicant’s probability of admission** based the scores from those two exams.\n",
    "\n",
    "![](Figures/data.png)\n",
    "\n",
    "In the following cell, we will load the data and corresponding labels:"
   ]
  },
  {
   "cell_type": "code",
   "execution_count": 5,
   "metadata": {},
   "outputs": [],
   "source": [
    "# Load data\n",
    "# The first two columns contains the exam scores (out of 100) and\n",
    "# the third column contains the labels ('1' for 'Admitted' & '0' for 'Not admitted').\n",
    "data = np.loadtxt(('linearClass.txt'),delimiter=',')\n",
    "X, y = data[:,0:2], data[:,2]\n"
   ]
  },
  {
   "cell_type": "code",
   "execution_count": 6,
   "metadata": {},
   "outputs": [
    {
     "data": {
      "text/plain": [
       "(100, 2)"
      ]
     },
     "execution_count": 6,
     "metadata": {},
     "output_type": "execute_result"
    }
   ],
   "source": [
    "X.shape"
   ]
  },
  {
   "cell_type": "markdown",
   "metadata": {},
   "source": [
    "### Visualizing the data\n",
    "\n",
    "The data will be displayed on a 2-dimensional plot by calling the function `plotData` which displays a figure where the axes are the two exam scores, and the positive and negative examples are shown with different markers.\n",
    "\n",
    "![](Figures/dataplot1.png)"
   ]
  },
  {
   "cell_type": "code",
   "execution_count": 9,
   "metadata": {},
   "outputs": [],
   "source": [
    "def plotData(X,y):\n",
    "    # Create new figure\n",
    "    \n",
    "    # =======================\n",
    "    pos = y==1\n",
    "    neg = y==0\n",
    "    \n",
    "    plt.plot(X[pos,0],X[pos,1],'ko')\n",
    "    plt.plot(X[neg,0],X[neg,1],'r*')\n",
    "    \n",
    "    # ======================="
   ]
  },
  {
   "cell_type": "code",
   "execution_count": 10,
   "metadata": {},
   "outputs": [
    {
     "data": {
      "image/png": "[encoded data removed]",
      "text/plain": [
       "<Figure size 432x288 with 1 Axes>"
      ]
     },
     "metadata": {
      "needs_background": "light"
     },
     "output_type": "display_data"
    }
   ],
   "source": [
    "plotData(X,y)"
   ]
  },
  {
   "cell_type": "code",
   "execution_count": 12,
   "metadata": {},
   "outputs": [
    {
     "data": {
      "text/plain": [
       "<matplotlib.legend.Legend at 0x2cba0a7f640>"
      ]
     },
     "execution_count": 12,
     "metadata": {},
     "output_type": "execute_result"
    },
    {
     "data": {
      "image/png": "[encoded data removed]",
      "text/plain": [
       "<Figure size 432x288 with 1 Axes>"
      ]
     },
     "metadata": {
      "needs_background": "light"
     },
     "output_type": "display_data"
    }
   ],
   "source": [
    "plotData(X, y)\n",
    "# add axes labels\n",
    "plt.xlabel('Exam 1 score')\n",
    "plt.ylabel('Exam 2 score')\n",
    "plt.legend(['Admitted', 'Not admitted'])"
   ]
  },
  {
   "cell_type": "markdown",
   "metadata": {},
   "source": [
    "<a id=\"section1\"></a>\n",
    "### Implementation\n",
    "\n",
    "#### Sigmoid function\n",
    "\n",
    "Before you start with the actual cost function, recalling the logistic regression hypothesis which is defined as:\n",
    "\n",
    "$$ h_w(x) = g(w^T x)$$\n",
    "\n",
    "where function $g$ is the sigmoid function. The sigmoid function is defined as: \n",
    "\n",
    "$$g(z) = \\frac{1}{1+e^{-z}}$$.\n",
    "\n",
    "The first step is to implement this function `sigmoid` so it can be called by the rest of the program.\n",
    "\n",
    "One can also try testing a few values by calling `sigmoid(x)` in a new cell. For large positive values of `x`, the sigmoid should be close to 1, while for large negative values, the sigmoid should be close to 0. Evaluating `sigmoid(0)` should give exactly 0.5.\n",
    "<a id=\"sigmoid\"></a>"
   ]
  },
  {
   "cell_type": "code",
   "execution_count": 15,
   "metadata": {},
   "outputs": [],
   "source": [
    "def sigmoid(z):\n",
    "    \n",
    "    z = np.array(z)\n",
    "    \n",
    "    g = np.zeros(z.shape)\n",
    "    \n",
    "    g = 1/(1 + np.exp(-z))\n",
    "\n",
    "    return g"
   ]
  },
  {
   "cell_type": "markdown",
   "metadata": {},
   "source": [
    "The following cell evaluates the sigmoid function at `z=0`. One should get a value of 0.5. One can also try different values for `z` to experiment with the sigmoid function."
   ]
  },
  {
   "cell_type": "code",
   "execution_count": 16,
   "metadata": {},
   "outputs": [
    {
     "name": "stdout",
     "output_type": "stream",
     "text": [
      "g( 0 ) =  0.5\n"
     ]
    }
   ],
   "source": [
    "# Test the implementation of sigmoid function for z = 0\n",
    "z1 = 0\n",
    "g = sigmoid(z1)\n",
    "\n",
    "print('g(', z1, ') = ', g)"
   ]
  },
  {
   "cell_type": "markdown",
   "metadata": {},
   "source": [
    "#### Cost function and gradient\n",
    "\n",
    "Now the cost function and gradient for logistic regression will be implemented by defining a function. Before proceeding, add the intercept term to X. "
   ]
  },
  {
   "cell_type": "code",
   "execution_count": 18,
   "metadata": {},
   "outputs": [],
   "source": [
    "# Setup the data matrix appropriately, and add ones for the intercept/bias term in X\n",
    "m, n = X.shape\n",
    "\n",
    "X = np.concatenate([np.ones((m,1)), X], axis = 1)\n"
   ]
  },
  {
   "cell_type": "markdown",
   "metadata": {},
   "source": [
    "Now, define the `costFunction` which shall return the cost and gradient. The cost function in logistic regression is\n",
    "\n",
    "$$ J(w) = \\frac{1}{m} \\sum_{i=1}^{m} \\left[ -y^{(i)} \\log\\left(h_w\\left( x^{(i)} \\right) \\right) - \\left( 1 - y^{(i)}\\right) \\log \\left( 1 - h_w\\left( x^{(i)} \\right) \\right) \\right]$$\n",
    "\n",
    "and the gradient of the cost function is a vector of the same length as $w$ where the $j^{th}$\n",
    "element (for $j = 0, 1, \\cdots , n$) is defined as follows:\n",
    "\n",
    "$$ \\frac{\\partial J(w)}{\\partial w_j} = \\frac{1}{m} \\sum_{i=1}^m \\left( h_w \\left( x^{(i)} \\right) - y^{(i)} \\right) x_j^{(i)} $$\n",
    "\n",
    "Note that while this gradient looks identical to the linear regression gradient, the formula is actually different because linear and logistic regression have different definitions of $h_w(x)$.\n",
    "<a id=\"costFunction\"></a>"
   ]
  },
  {
   "cell_type": "code",
   "execution_count": null,
   "metadata": {},
   "outputs": [],
   "source": [
    "def costFunction(w, X, y):\n",
    "    \n",
    "    \n",
    "    \n",
    "    return J, grad"
   ]
  },
  {
   "cell_type": "markdown",
   "metadata": {},
   "source": [
    "Once done with the function definition, call `costFunction` using two test cases for  `w` by executing the next cell."
   ]
  },
  {
   "cell_type": "code",
   "execution_count": null,
   "metadata": {},
   "outputs": [],
   "source": [
    "# Initialize fitting parameters\n",
    "initial_w = np.zeros(n+1)\n",
    "\n",
    "cost, grad = \n",
    "\n",
    "print('Cost at initial w (zeros): {:.3f}'.format(cost))\n",
    "\n",
    "print('Gradient at initial w (zeros):')\n",
    "print('\\t[{:.4f}, {:.4f}, {:.4f}]'.format(*grad))"
   ]
  },
  {
   "cell_type": "markdown",
   "metadata": {},
   "source": [
    "#### Minimizing the cost function\n",
    "\n",
    "In the next cell, you shall minimize the cost function for learning the optimum value of parameters in `w`.\n",
    "\n",
    "Instead of using gradient descent method for optimization, we can directly use `scipy.optimize` module. `SciPy` is a numerical computing library for `python` which provides an optimization module for root finding and minimization.\n",
    "\n",
    "`optimize.minimize` needs following inputs:\n",
    "- `costFunction`: Name of the cost function defined earlier that takes training set and a particular `w`, computes the logistic regression cost and gradient with respect to `w` for the dataset (X, y).\n",
    "- `initial_w`: The initial values of the parameters we are trying to optimize.\n",
    "- `(X, y)`: These are additional arguments passed to the cost function.\n",
    "- `jac`: Indication if the cost function returns the Jacobian (gradient) along with cost value. (True)\n",
    "- `method`: Optimization method/algorithm to use (CG, GradDescent, BFGS)\n",
    "- `options`: Additional options (such as maximum iterations) specific to the specific optimization method.\n"
   ]
  },
  {
   "cell_type": "code",
   "execution_count": null,
   "metadata": {},
   "outputs": [],
   "source": [
    "# set options for optimize.minimize\n",
    "\n",
    "options = {'maxiter' : 500}\n",
    "\n",
    "res = optimize.minimize(costFunction,\n",
    "                       initial_w,\n",
    "                       (X, y),\n",
    "                       jac = True,\n",
    "                       method = 'CG',\n",
    "                       options = options)\n",
    "\n",
    "cost = res.fun # The 'res' contains optimization results i.e. the optimized parameters and associated minimum cost\n",
    "\n",
    "w_opti = res.x\n",
    "\n",
    "print('Cost at w found by optimize.minimize: {:.3f}'.format(cost))\n",
    "\n",
    "print('Optimized w:')\n",
    "print('\\t[{:.3f}, {:.3f}, {:.3f}]'.format(*w_opti))"
   ]
  },
  {
   "cell_type": "markdown",
   "metadata": {},
   "source": [
    "### Plot the decision boundary\n",
    "\n",
    "Once `optimize.minimize` completes, one can use the final value for $w$ to visualize the decision boundary on the training data.\n",
    "\n",
    "To do so, another function `plotDecisionBoundary` can be written for plotting the decision boundary on top of training data.\n",
    "\n",
    "![](Figures/decision_boundary1.png)"
   ]
  },
  {
   "cell_type": "code",
   "execution_count": null,
   "metadata": {},
   "outputs": [],
   "source": [
    "w_opti = np.array(w_opti)\n",
    "\n",
    "# Plot Data (remember first column in X is the intercept)\n",
    "plotData(X[:, 1:3], y)\n",
    "\n",
    "# Only need 2 points to define a line, so choose two endpoints\n",
    "plot_x = np.array([np.min(X[:,1]) + 2, np.max(X[:,1]) - 2])\n",
    "\n",
    "# Calculate the decision boundary line:\n",
    "# From hypothesis eqn. z = w*X + w0.\n",
    "# Considering the decision boundary at probability of 0.5 (i.e. z = sigmoid(0.5) = 0)\n",
    "# => 0 = w*X + w0\n",
    "# => w[2]*X2 = - (w[1]*X1 + w[0])\n",
    "# => X2 = ?\n",
    "\n",
    "plot_y = \n",
    "\n",
    "pyplot.plot(plot_x, plot_y)\n",
    "\n",
    "pyplot.legend(['Admitted', 'Not admitted', 'Decision Boundary'])\n",
    "pyplot.xlim([30, 100])\n",
    "pyplot.ylim([30, 100])"
   ]
  },
  {
   "cell_type": "markdown",
   "metadata": {},
   "source": [
    "<a id=\"section4\"></a>\n",
    "#### 1.2.4 Evaluating logistic regression\n",
    "\n",
    "After learning the parameters, one can use the model to predict whether a particular student will be admitted or not. For instance, for a student with an Exam 1 score of 45 and an Exam 2 score of 85, what is the probability that the student will get admitted?\n",
    "\n",
    "In this part, the task is to write the code in function `predict`. The predict function will produce “1” or “0” predictions given a dataset and a learned parameter vector $w$."
   ]
  },
  {
   "cell_type": "code",
   "execution_count": null,
   "metadata": {},
   "outputs": [],
   "source": [
    "def predict(w_opti, X):\n",
    "    \n",
    "    z = np.dot(w_opti,X)\n",
    "    p1  = sigmoid(z)\n",
    "    p = np.round(p1)\n",
    "    \n",
    "    return p"
   ]
  },
  {
   "cell_type": "markdown",
   "metadata": {},
   "source": [
    "Finally the training accuracy of the classifier can be computed as the percentage of examples it got correct."
   ]
  },
  {
   "cell_type": "code",
   "execution_count": null,
   "metadata": {},
   "outputs": [],
   "source": [
    "#  Predict probability for a student with score 45 on exam 1 and score 85 on exam 2\n",
    "pp = predict(w_opti, [1 45 85])\n",
    "\n",
    "# Compute accuracy on our training set\n",
    "p = predict(w_opti,X)\n",
    "\n",
    "acc = np.mean(p == y)*100"
   ]
  },
  {
   "cell_type": "code",
   "execution_count": null,
   "metadata": {},
   "outputs": [],
   "source": []
  }
 ],
 "metadata": {
  "kernelspec": {
   "display_name": "Python 3 (ipykernel)",
   "language": "python",
   "name": "python3"
  },
  "language_info": {
   "codemirror_mode": {
    "name": "ipython",
    "version": 3
   },
   "file_extension": ".py",
   "mimetype": "text/x-python",
   "name": "python",
   "nbconvert_exporter": "python",
   "pygments_lexer": "ipython3",
   "version": "3.8.10"
  }
 },
 "nbformat": 4,
 "nbformat_minor": 4
}
