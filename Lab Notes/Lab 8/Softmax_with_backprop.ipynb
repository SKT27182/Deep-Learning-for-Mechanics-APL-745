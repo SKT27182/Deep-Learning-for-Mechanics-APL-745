{
 "cells": [
  {
   "cell_type": "markdown",
   "metadata": {
    "id": "_HaZvbOcudXz"
   },
   "source": [
    "### **Backpropagation: Softmax**"
   ]
  },
  {
   "cell_type": "markdown",
   "metadata": {
    "id": "jKNCsjXpu87D"
   },
   "source": [
    "We’ll start our way from the end and work our way towards the beginning, since that’s how backprop works. First, recall the cross-entropy loss:\n",
    "\n",
    "------------------------$L=-\\ln \\left(p_c\\right)$\n",
    "\n",
    "where $p_c$ is the predicted probability for the correct class $c$ (in other words, what digit our current image actually is).\n",
    "\n",
    "\n",
    "\n"
   ]
  },
  {
   "cell_type": "markdown",
   "metadata": {
    "id": "xHp0YAO9yqhX"
   },
   "source": [
    "The loss gradient wrt output of the softmax layer is formulated as:\n",
    "\n",
    "\n",
    "$\\frac{\\partial L}{\\partial o u t_s(i)}= \\begin{cases}0 & \\text { if } i \\neq c \\\\ -\\frac{1}{p_i} & \\text { if } i=c\\end{cases}$\n",
    "\n",
    "where $out_s$ is the output from the softmax layer and c is the correct class."
   ]
  },
  {
   "cell_type": "markdown",
   "metadata": {
    "id": "wKJT8EKm0W-x"
   },
   "source": [
    "**Calculation of the gradient of $out_s(c)$ wrt the totals (values passed in to the softmax activation).**\n",
    "\n",
    "Let $t_i$ be the total for class $i$. Then: \n",
    "  $\\boldsymbol{o u t}_s(c)=\\frac{e^{t_c}}{\\sum_i e^{t_i}}=\\frac{e^{t_c}}{S}$\n",
    "\n",
    "\n",
    "then gradient will be formulated as :$\\frac{\\partial o u t_s(k)}{\\partial t}= \\begin{cases}\\frac{-e^{t_c}{e^{t_k}}}{{S^2}} & \\text { if } k \\neq c \\\\ \\frac{e^{t_c}\\left(S-e^{t_c}\\right)}{S^2} & \\text { if } k=c\\end{cases}$\n",
    "\n",
    "where $k$ is any class in general."
   ]
  },
  {
   "cell_type": "code",
   "execution_count": null,
   "metadata": {
    "id": "at-qB4iWucOZ"
   },
   "outputs": [],
   "source": [
    "import numpy as np\n",
    "\n",
    "class Softmax:\n",
    "  # A standard fully-connected layer with softmax activation.\n",
    "\n",
    "  def __init__(self, input_len, output_len):\n",
    "    # After randomly intializing the weights, divide by input_len to reduce the variance\n",
    "    self.weights = \n",
    "    self.biases = \n",
    "\n",
    "  def forward(self, input):\n",
    "    '''\n",
    "    Performs a forward pass of the softmax layer using the given input.\n",
    "    Returns a 1d numpy array containing the respective probability values.\n",
    "    - input can be any array with any dimensions.\n",
    "    '''\n",
    "    self.last_input_shape = input.shape\n",
    "    self.last_input = input\n",
    "\n",
    "    \n",
    "    \n",
    "    \n",
    "    \n",
    "    \n",
    "    \n",
    "    return prob\n",
    "    \n",
    "  def backprop(self, d_L_d_out, learn_rate):\n",
    "    '''\n",
    "    Performs a backward pass of the softmax layer.\n",
    "    Returns the loss gradient for this layer's inputs.\n",
    "    - Use derivative of loss function (d_L_d_out) wrt output of the softmax layer.\n",
    "    - It will be the loss gradient for this layer's outputs.\n",
    "    - learn_rate is a float.\n",
    "    - Note: We know only 1 element of d_L_d_out will be nonzero.\n",
    "    '''\n",
    "    \n",
    "    \n",
    "    \n",
    "    \n",
    "\n",
    "      # e^totals (Evaluate exponents for the values passed into softmax activation function)\n",
    "      \n",
    "      \n",
    "      # Sum of all e^totals\n",
    "      \n",
    "\n",
    "      # Gradients of out[i] against totals (Compute the gradients of the outputs of softmax layer wrt totals)\n",
    "      \n",
    "      \n",
    "\n",
    "      # Gradients of totals against weights/biases/input\n",
    "      \n",
    "      \n",
    "      \n",
    "\n",
    "      # Gradients of loss against totals\n",
    "      \n",
    "\n",
    "      # Gradients of loss against weights/biases/input\n",
    "      \n",
    "      \n",
    "      \n",
    "\n",
    "      # Update weights / biases\n",
    "      \n",
    "      \n",
    "\n",
    "      return d_L_d_inputs.reshape(self.last_input_shape)"
   ]
  }
 ],
 "metadata": {
  "colab": {
   "authorship_tag": "ABX9TyMbes/oGVq4FV/eg+oxXzki",
   "provenance": []
  },
  "kernelspec": {
   "display_name": "Python 3 (ipykernel)",
   "language": "python",
   "name": "python3"
  },
  "language_info": {
   "codemirror_mode": {
    "name": "ipython",
    "version": 3
   },
   "file_extension": ".py",
   "mimetype": "text/x-python",
   "name": "python",
   "nbconvert_exporter": "python",
   "pygments_lexer": "ipython3",
   "version": "3.8.10"
  }
 },
 "nbformat": 4,
 "nbformat_minor": 1
}
