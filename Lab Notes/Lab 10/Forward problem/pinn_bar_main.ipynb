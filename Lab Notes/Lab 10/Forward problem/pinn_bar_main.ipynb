{
  "cells": [
    {
      "cell_type": "markdown",
      "id": "MVaR4b9-iu3L",
      "metadata": {
        "id": "MVaR4b9-iu3L"
      },
      "source": [
        "This file is the main file where we define the problem data, initiate model and train the model"
      ]
    },
    {
      "cell_type": "markdown",
      "id": "24f6ebHvjSap",
      "metadata": {
        "id": "24f6ebHvjSap"
      },
      "source": [
        "1. First we import all the relevant classes and libraries"
      ]
    },
    {
      "cell_type": "code",
      "execution_count": 1,
      "id": "w_l4adLOjGyJ",
      "metadata": {
        "id": "w_l4adLOjGyJ"
      },
      "outputs": [],
      "source": [
        "from physicsinformed import PhysicsInformedBarModel # py file which contains custom class for training\n",
        "import numpy as np\n",
        "import torch"
      ]
    },
    {
      "attachments": {},
      "cell_type": "markdown",
      "id": "896f76ea",
      "metadata": {},
      "source": [
        "Custom function needed to generate training and testing data"
      ]
    },
    {
      "cell_type": "code",
      "execution_count": 2,
      "id": "7f7b5b6f",
      "metadata": {},
      "outputs": [],
      "source": [
        "def generate_grid_1d(length, samples=20, initial_coordinate=0.0):\n",
        "    \"\"\"Generate an evenly space grid of a given length and a given number of samples.\"\"\"\n",
        "\n",
        "    # Generate the grid\n",
        "    x = torch.linspace(initial_coordinate, initial_coordinate + length, samples, requires_grad=True)\n",
        "\n",
        "    # Reshape on a column tensor and return\n",
        "    return x.view(samples, 1)"
      ]
    },
    {
      "cell_type": "code",
      "execution_count": 3,
      "id": "344067a9",
      "metadata": {},
      "outputs": [],
      "source": [
        "L = 1\n",
        "x = generate_grid_1d(L)"
      ]
    },
    {
      "attachments": {},
      "cell_type": "markdown",
      "id": "-RcvGRwGjdLu",
      "metadata": {
        "id": "-RcvGRwGjdLu"
      },
      "source": [
        "2. Analytical solution for validation"
      ]
    },
    {
      "cell_type": "code",
      "execution_count": 4,
      "id": "4ppF7bu2jsvd",
      "metadata": {
        "id": "4ppF7bu2jsvd"
      },
      "outputs": [],
      "source": [
        "u_analytic = lambda x: np.sin(2 * np.pi * x / L)"
      ]
    },
    {
      "cell_type": "markdown",
      "id": "aj1oXOV3j0oE",
      "metadata": {
        "id": "aj1oXOV3j0oE"
      },
      "source": [
        "3. Problem data are defined. Here the known data like mechanical parameters, boundary condition and loading conditions are defined"
      ]
    },
    {
      "cell_type": "code",
      "execution_count": 5,
      "id": "wixdAtJckJs0",
      "metadata": {
        "id": "wixdAtJckJs0"
      },
      "outputs": [],
      "source": [
        "E = 1\n",
        "A = 1\n",
        "u0 =  0 # Dirichlet boundary conditions for both edges. give in the form of list\n",
        "distLoad = lambda x: 0.0"
      ]
    },
    {
      "cell_type": "markdown",
      "id": "9RzoofTZkNxz",
      "metadata": {
        "id": "9RzoofTZkNxz"
      },
      "source": [
        "4. Next we generate the neural network model using the imported class PhysicsInformedBarModel"
      ]
    },
    {
      "cell_type": "code",
      "execution_count": 6,
      "id": "aOK1MmCGkdEA",
      "metadata": {
        "colab": {
          "base_uri": "https://localhost:8080/"
        },
        "id": "aOK1MmCGkdEA",
        "outputId": "c81f4848-6661-44ca-c1e5-f7b564b12406"
      },
      "outputs": [],
      "source": [
        "pinnModel = PhysicsInformedBarModel(x, E, A, L, u0, dist_load=distLoad) # use the designed custom class from physicsinformed.py file"
      ]
    },
    {
      "cell_type": "markdown",
      "id": "9YLwGbdpkhxv",
      "metadata": {
        "id": "9YLwGbdpkhxv"
      },
      "source": [
        "5. Next we train our model. The method/function 'train' is defined in the class PhysicsInformedBarModel"
      ]
    },
    {
      "cell_type": "code",
      "execution_count": 5,
      "id": "UKjY96mRkoFa",
      "metadata": {
        "colab": {
          "base_uri": "https://localhost:8080/"
        },
        "id": "UKjY96mRkoFa",
        "outputId": "6580de39-e794-4adb-e9f5-17d7793b4f55"
      },
      "outputs": [
        {
          "name": "stdout",
          "output_type": "stream",
          "text": [
            "Epoch: 0/499\t\tDifferential equation loss = 14761.091797\t\tBoundary condition loss = 0.009410\t\tTotal loss = 14761.101562\n",
            "Epoch: 100/499\t\tDifferential equation loss = 0.026868\t\tBoundary condition loss = 0.000051\t\tTotal loss = 0.026919\n",
            "Epoch: 200/499\t\tDifferential equation loss = 0.020703\t\tBoundary condition loss = 0.000021\t\tTotal loss = 0.020724\n",
            "Epoch: 300/499\t\tDifferential equation loss = 0.004386\t\tBoundary condition loss = 0.000075\t\tTotal loss = 0.004461\n",
            "Epoch: 400/499\t\tDifferential equation loss = 0.000772\t\tBoundary condition loss = 0.000005\t\tTotal loss = 0.000776\n",
            "Epoch: 499/499\t\tDifferential equation loss = 0.000797\t\tBoundary condition loss = 0.000000\t\tTotal loss = 0.000797\n"
          ]
        }
      ],
      "source": [
        "epochs = 500\n",
        "learningRate = 1e-2\n",
        "\n",
        "pinnModel.train(epochs, optimizer='LBFGS', lr=learningRate) # function defined in custom class for training"
      ]
    },
    {
      "cell_type": "markdown",
      "id": "1TneSGHGkrCq",
      "metadata": {
        "id": "1TneSGHGkrCq"
      },
      "source": [
        "6. We generate sample test data using utilities library and then predict the displacements at those test points"
      ]
    },
    {
      "cell_type": "code",
      "execution_count": 6,
      "id": "tdUpXT6flc5o",
      "metadata": {
        "id": "tdUpXT6flc5o"
      },
      "outputs": [],
      "source": [
        "samples = 100\n",
        "x_test = generate_grid_1d(L, samples)\n",
        "u_test = pinnModel.get_displacements(x_test) # function defined in the custom class to get model predicted values"
      ]
    },
    {
      "cell_type": "markdown",
      "id": "DUl2FSDzlhnp",
      "metadata": {
        "id": "DUl2FSDzlhnp"
      },
      "source": [
        "7. We plot predicted displacements at test points and also the training history"
      ]
    },
    {
      "cell_type": "code",
      "execution_count": 7,
      "id": "8f1125c4",
      "metadata": {
        "colab": {
          "base_uri": "https://localhost:8080/",
          "height": 449
        },
        "id": "8f1125c4",
        "outputId": "e212e034-711b-4e85-9e1c-c0692a527b4f"
      },
      "outputs": [
        {
          "data": {
            "image/png": "[encoded data removed]",
            "text/plain": [
              "<Figure size 288x216 with 1 Axes>"
            ]
          },
          "metadata": {
            "needs_background": "light"
          },
          "output_type": "display_data"
        },
        {
          "data": {
            "image/png": "[encoded data removed]",
            "text/plain": [
              "<Figure size 288x216 with 1 Axes>"
            ]
          },
          "metadata": {
            "needs_background": "light"
          },
          "output_type": "display_data"
        }
      ],
      "source": [
        "# plot the results and training losses. Refer the pptx file results slide for more information\n"
      ]
    }
  ],
  "metadata": {
    "colab": {
      "name": "pinn_bar_main.ipynb",
      "provenance": []
    },
    "kernelspec": {
      "display_name": "my_env",
      "language": "python",
      "name": "my_env"
    },
    "language_info": {
      "codemirror_mode": {
        "name": "ipython",
        "version": 3
      },
      "file_extension": ".py",
      "mimetype": "text/x-python",
      "name": "python",
      "nbconvert_exporter": "python",
      "pygments_lexer": "ipython3",
      "version": "3.10.6"
    }
  },
  "nbformat": 4,
  "nbformat_minor": 5
}
