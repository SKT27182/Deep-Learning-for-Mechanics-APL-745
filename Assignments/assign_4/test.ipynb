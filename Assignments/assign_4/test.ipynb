{
 "cells": [
  {
   "cell_type": "code",
   "execution_count": 1,
   "metadata": {},
   "outputs": [],
   "source": [
    "import numpy as np\n",
    "import pandas as pd\n",
    "import matplotlib.pyplot as plt\n",
    "\n",
    "from  neural.nn import NeuralNetwork\n",
    "from  neural.layers import ActivationLayer, DenseLayer, DropoutLayer, BatchNormalization\n",
    "from  neural.losses import MSE,  BinaryCrossentropy, CategoricalCrossentropy\n",
    "from neural.activations import Tanh\n",
    "from neural.metrics import Metrics"
   ]
  },
  {
   "attachments": {},
   "cell_type": "markdown",
   "metadata": {},
   "source": [
    "## XNOR Gate"
   ]
  },
  {
   "cell_type": "code",
   "execution_count": 2,
   "metadata": {},
   "outputs": [],
   "source": [
    "# training data\n",
    "x_train = np.array([[0,0], [0,1], [1,0], [1,1]])\n",
    "y_train = np.array([[0], [1], [1], [0]])\n",
    "\n",
    "\n",
    "# network\n",
    "net = NeuralNetwork()\n",
    "\n",
    "net.add(DenseLayer(2, 8, bias=False))\n",
    "net.add(ActivationLayer(Tanh))\n",
    "\n",
    "net.add(DenseLayer(8, 4, activation=\"tanh\"))\n",
    "\n",
    "net.add(DenseLayer(4, 1, activation=\"sigmoid\"))                    # input_shape=(1, 10)       ;   output_shape=(1, 10)\n",
    "# net.add(ActivationLayer(Sigmoid))\n",
    "\n",
    "# net.use_loss(MSE_loss)\n",
    "net.use_loss(BinaryCrossentropy())\n"
   ]
  },
  {
   "cell_type": "code",
   "execution_count": 3,
   "metadata": {},
   "outputs": [
    {
     "name": "stdout",
     "output_type": "stream",
     "text": [
      "Summary of the Neural Network\n",
      "___________________________________________________________________________________________________________________\n",
      "Layer (type)        Neurons #      Input Shape    Output Shape   Weights shape  Bias shape        Param #\n",
      "===================================================================================================================\n",
      "Input               2              -              (2, None)      -              -                       0\n",
      "\n",
      "DenseLayer          8              (2, None)      (8, None)      (8, 2)         0                      24\n",
      "\n",
      "ActivationLayer     -              activavtion    Tanh           -              -                       0\n",
      "\n",
      "DenseLayer          4              (8, None)      (4, None)      (4, 8)         (4, 1)                 36\n",
      "\n",
      "DenseLayer          1              (4, None)      (1, None)      (1, 4)         (1, 1)                  5\n",
      "\n",
      "===================================================================================================================\n",
      "Total params                                                                                           65\n"
     ]
    }
   ],
   "source": [
    "net.summary()"
   ]
  },
  {
   "cell_type": "code",
   "execution_count": 4,
   "metadata": {},
   "outputs": [
    {
     "name": "stdout",
     "output_type": "stream",
     "text": [
      "Epoch 1-50 ======================> cost: 0.6833\n",
      "Epoch 11-50 ======================> cost: 0.5773\n",
      "Epoch 21-50 ======================> cost: 0.3233\n",
      "Epoch 31-50 ======================> cost: 0.1603\n",
      "Epoch 41-50 ======================> cost: 0.0990\n",
      "[[0.0690207 ]\n",
      " [0.94285877]\n",
      " [0.94954375]\n",
      " [0.10257768]]\n"
     ]
    }
   ],
   "source": [
    "net.fit(x_train, y_train, epochs=50, learning_rate=0.9, verbose=1)\n",
    "\n",
    "# test\n",
    "out = net.predict(x_train)\n",
    "print(out)"
   ]
  },
  {
   "cell_type": "code",
   "execution_count": 5,
   "metadata": {},
   "outputs": [
    {
     "data": {
      "text/plain": [
       "1.0"
      ]
     },
     "execution_count": 5,
     "metadata": {},
     "output_type": "execute_result"
    }
   ],
   "source": [
    "xor_pred = np.round(out)\n",
    "\n",
    "Metrics.accuracy(y_train, xor_pred)"
   ]
  },
  {
   "attachments": {},
   "cell_type": "markdown",
   "metadata": {},
   "source": [
    "## Breast Cancer"
   ]
  },
  {
   "cell_type": "code",
   "execution_count": 6,
   "metadata": {},
   "outputs": [
    {
     "data": {
      "text/html": [
       "<div>\n",
       "<style scoped>\n",
       "    .dataframe tbody tr th:only-of-type {\n",
       "        vertical-align: middle;\n",
       "    }\n",
       "\n",
       "    .dataframe tbody tr th {\n",
       "        vertical-align: top;\n",
       "    }\n",
       "\n",
       "    .dataframe thead th {\n",
       "        text-align: right;\n",
       "    }\n",
       "</style>\n",
       "<table border=\"1\" class=\"dataframe\">\n",
       "  <thead>\n",
       "    <tr style=\"text-align: right;\">\n",
       "      <th></th>\n",
       "      <th>mean radius</th>\n",
       "      <th>mean texture</th>\n",
       "      <th>mean perimeter</th>\n",
       "      <th>mean area</th>\n",
       "      <th>mean smoothness</th>\n",
       "      <th>mean compactness</th>\n",
       "      <th>mean concavity</th>\n",
       "      <th>mean concave points</th>\n",
       "      <th>mean symmetry</th>\n",
       "      <th>mean fractal dimension</th>\n",
       "      <th>...</th>\n",
       "      <th>worst radius</th>\n",
       "      <th>worst texture</th>\n",
       "      <th>worst perimeter</th>\n",
       "      <th>worst area</th>\n",
       "      <th>worst smoothness</th>\n",
       "      <th>worst compactness</th>\n",
       "      <th>worst concavity</th>\n",
       "      <th>worst concave points</th>\n",
       "      <th>worst symmetry</th>\n",
       "      <th>worst fractal dimension</th>\n",
       "    </tr>\n",
       "  </thead>\n",
       "  <tbody>\n",
       "    <tr>\n",
       "      <th>0</th>\n",
       "      <td>17.99</td>\n",
       "      <td>10.38</td>\n",
       "      <td>122.80</td>\n",
       "      <td>1001.0</td>\n",
       "      <td>0.11840</td>\n",
       "      <td>0.27760</td>\n",
       "      <td>0.3001</td>\n",
       "      <td>0.14710</td>\n",
       "      <td>0.2419</td>\n",
       "      <td>0.07871</td>\n",
       "      <td>...</td>\n",
       "      <td>25.38</td>\n",
       "      <td>17.33</td>\n",
       "      <td>184.60</td>\n",
       "      <td>2019.0</td>\n",
       "      <td>0.1622</td>\n",
       "      <td>0.6656</td>\n",
       "      <td>0.7119</td>\n",
       "      <td>0.2654</td>\n",
       "      <td>0.4601</td>\n",
       "      <td>0.11890</td>\n",
       "    </tr>\n",
       "    <tr>\n",
       "      <th>1</th>\n",
       "      <td>20.57</td>\n",
       "      <td>17.77</td>\n",
       "      <td>132.90</td>\n",
       "      <td>1326.0</td>\n",
       "      <td>0.08474</td>\n",
       "      <td>0.07864</td>\n",
       "      <td>0.0869</td>\n",
       "      <td>0.07017</td>\n",
       "      <td>0.1812</td>\n",
       "      <td>0.05667</td>\n",
       "      <td>...</td>\n",
       "      <td>24.99</td>\n",
       "      <td>23.41</td>\n",
       "      <td>158.80</td>\n",
       "      <td>1956.0</td>\n",
       "      <td>0.1238</td>\n",
       "      <td>0.1866</td>\n",
       "      <td>0.2416</td>\n",
       "      <td>0.1860</td>\n",
       "      <td>0.2750</td>\n",
       "      <td>0.08902</td>\n",
       "    </tr>\n",
       "    <tr>\n",
       "      <th>2</th>\n",
       "      <td>19.69</td>\n",
       "      <td>21.25</td>\n",
       "      <td>130.00</td>\n",
       "      <td>1203.0</td>\n",
       "      <td>0.10960</td>\n",
       "      <td>0.15990</td>\n",
       "      <td>0.1974</td>\n",
       "      <td>0.12790</td>\n",
       "      <td>0.2069</td>\n",
       "      <td>0.05999</td>\n",
       "      <td>...</td>\n",
       "      <td>23.57</td>\n",
       "      <td>25.53</td>\n",
       "      <td>152.50</td>\n",
       "      <td>1709.0</td>\n",
       "      <td>0.1444</td>\n",
       "      <td>0.4245</td>\n",
       "      <td>0.4504</td>\n",
       "      <td>0.2430</td>\n",
       "      <td>0.3613</td>\n",
       "      <td>0.08758</td>\n",
       "    </tr>\n",
       "    <tr>\n",
       "      <th>3</th>\n",
       "      <td>11.42</td>\n",
       "      <td>20.38</td>\n",
       "      <td>77.58</td>\n",
       "      <td>386.1</td>\n",
       "      <td>0.14250</td>\n",
       "      <td>0.28390</td>\n",
       "      <td>0.2414</td>\n",
       "      <td>0.10520</td>\n",
       "      <td>0.2597</td>\n",
       "      <td>0.09744</td>\n",
       "      <td>...</td>\n",
       "      <td>14.91</td>\n",
       "      <td>26.50</td>\n",
       "      <td>98.87</td>\n",
       "      <td>567.7</td>\n",
       "      <td>0.2098</td>\n",
       "      <td>0.8663</td>\n",
       "      <td>0.6869</td>\n",
       "      <td>0.2575</td>\n",
       "      <td>0.6638</td>\n",
       "      <td>0.17300</td>\n",
       "    </tr>\n",
       "    <tr>\n",
       "      <th>4</th>\n",
       "      <td>20.29</td>\n",
       "      <td>14.34</td>\n",
       "      <td>135.10</td>\n",
       "      <td>1297.0</td>\n",
       "      <td>0.10030</td>\n",
       "      <td>0.13280</td>\n",
       "      <td>0.1980</td>\n",
       "      <td>0.10430</td>\n",
       "      <td>0.1809</td>\n",
       "      <td>0.05883</td>\n",
       "      <td>...</td>\n",
       "      <td>22.54</td>\n",
       "      <td>16.67</td>\n",
       "      <td>152.20</td>\n",
       "      <td>1575.0</td>\n",
       "      <td>0.1374</td>\n",
       "      <td>0.2050</td>\n",
       "      <td>0.4000</td>\n",
       "      <td>0.1625</td>\n",
       "      <td>0.2364</td>\n",
       "      <td>0.07678</td>\n",
       "    </tr>\n",
       "  </tbody>\n",
       "</table>\n",
       "<p>5 rows × 30 columns</p>\n",
       "</div>"
      ],
      "text/plain": [
       "   mean radius  mean texture  mean perimeter  mean area  mean smoothness  \\\n",
       "0        17.99         10.38          122.80     1001.0          0.11840   \n",
       "1        20.57         17.77          132.90     1326.0          0.08474   \n",
       "2        19.69         21.25          130.00     1203.0          0.10960   \n",
       "3        11.42         20.38           77.58      386.1          0.14250   \n",
       "4        20.29         14.34          135.10     1297.0          0.10030   \n",
       "\n",
       "   mean compactness  mean concavity  mean concave points  mean symmetry  \\\n",
       "0           0.27760          0.3001              0.14710         0.2419   \n",
       "1           0.07864          0.0869              0.07017         0.1812   \n",
       "2           0.15990          0.1974              0.12790         0.2069   \n",
       "3           0.28390          0.2414              0.10520         0.2597   \n",
       "4           0.13280          0.1980              0.10430         0.1809   \n",
       "\n",
       "   mean fractal dimension  ...  worst radius  worst texture  worst perimeter  \\\n",
       "0                 0.07871  ...         25.38          17.33           184.60   \n",
       "1                 0.05667  ...         24.99          23.41           158.80   \n",
       "2                 0.05999  ...         23.57          25.53           152.50   \n",
       "3                 0.09744  ...         14.91          26.50            98.87   \n",
       "4                 0.05883  ...         22.54          16.67           152.20   \n",
       "\n",
       "   worst area  worst smoothness  worst compactness  worst concavity  \\\n",
       "0      2019.0            0.1622             0.6656           0.7119   \n",
       "1      1956.0            0.1238             0.1866           0.2416   \n",
       "2      1709.0            0.1444             0.4245           0.4504   \n",
       "3       567.7            0.2098             0.8663           0.6869   \n",
       "4      1575.0            0.1374             0.2050           0.4000   \n",
       "\n",
       "   worst concave points  worst symmetry  worst fractal dimension  \n",
       "0                0.2654          0.4601                  0.11890  \n",
       "1                0.1860          0.2750                  0.08902  \n",
       "2                0.2430          0.3613                  0.08758  \n",
       "3                0.2575          0.6638                  0.17300  \n",
       "4                0.1625          0.2364                  0.07678  \n",
       "\n",
       "[5 rows x 30 columns]"
      ]
     },
     "execution_count": 6,
     "metadata": {},
     "output_type": "execute_result"
    }
   ],
   "source": [
    "from sklearn.datasets import load_breast_cancer\n",
    "data = load_breast_cancer()\n",
    "\n",
    "data_df = pd.DataFrame(data = data.data,\n",
    "                       columns = data.feature_names)\n",
    "data_df.head()"
   ]
  },
  {
   "cell_type": "code",
   "execution_count": 7,
   "metadata": {},
   "outputs": [
    {
     "name": "stdout",
     "output_type": "stream",
     "text": [
      "Summary of the Neural Network\n",
      "___________________________________________________________________________________________________________________\n",
      "Layer (type)        Neurons #      Input Shape    Output Shape   Weights shape  Bias shape        Param #\n",
      "===================================================================================================================\n",
      "Input               30             -              (30, None)     -              -                       0\n",
      "\n",
      "DenseLayer          64             (30, None)     (64, None)     (64, 30)       (64, 1)              1984\n",
      "\n",
      "DenseLayer          128            (64, None)     (128, None)    (128, 64)      (128, 1)             8320\n",
      "\n",
      "DropoutLayer        -              droupout rate: 0.2            -              -                       0\n",
      "\n",
      "DenseLayer          32             (128, None)    (32, None)     (32, 128)      (32, 1)              4128\n",
      "\n",
      "DenseLayer          1              (32, None)     (1, None)      (1, 32)        (1, 1)                 33\n",
      "\n",
      "===================================================================================================================\n",
      "Total params                                                                                        14465\n"
     ]
    }
   ],
   "source": [
    "breast_net = NeuralNetwork()\n",
    "\n",
    "breast_net.add(DenseLayer(30, 64, activation=\"tanh\"))\n",
    "# breast_net.add(ActivationLayer(Tanh))\n",
    "\n",
    "breast_net.add(DenseLayer(64, 128, activation=\"tanh\"))\n",
    "# breast_net.add(ActivationLayer(Tanh))\n",
    "\n",
    "breast_net.add(DropoutLayer(0.2))\n",
    "\n",
    "breast_net.add(DenseLayer(128, 32, activation=\"tanh\"))                    # input_shape=(1, 10)       ;   output_shape=(1, 10)\n",
    "# breast_net.add(ActivationLayer(Tanh))\n",
    "\n",
    "breast_net.add(DenseLayer(32, 1, activation=\"sigmoid\"))                    # input_shape=(1, 10)       ;   output_shape=(1, 10)\n",
    "# breast_net.add(ActivationLayer(Sigmoid))\n",
    "\n",
    "breast_net.use_loss(BinaryCrossentropy())\n",
    "\n",
    "breast_net.summary()"
   ]
  },
  {
   "cell_type": "code",
   "execution_count": 8,
   "metadata": {},
   "outputs": [
    {
     "name": "stdout",
     "output_type": "stream",
     "text": [
      "Epoch 1-100 ======================> cost: 0.6263\n",
      "Epoch 11-100 ======================> cost: 0.5073\n",
      "Epoch 21-100 ======================> cost: 0.4623\n",
      "Epoch 31-100 ======================> cost: 0.4223\n",
      "Epoch 41-100 ======================> cost: 0.3895\n",
      "Epoch 51-100 ======================> cost: 0.3697\n",
      "Epoch 61-100 ======================> cost: 0.3382\n",
      "Epoch 71-100 ======================> cost: 0.3189\n",
      "Epoch 81-100 ======================> cost: 0.3022\n",
      "Epoch 91-100 ======================> cost: 0.2887\n"
     ]
    }
   ],
   "source": [
    "# y_breast = np.array(pd.get_dummies(data.target))\n",
    "y_breast = data.target\n",
    "breast_net.fit(x_train=data.data,y_train= y_breast, epochs=100, learning_rate=0.001, verbose=1)"
   ]
  },
  {
   "cell_type": "code",
   "execution_count": 9,
   "metadata": {},
   "outputs": [
    {
     "name": "stdout",
     "output_type": "stream",
     "text": [
      "Accuracy:  0.9173989455184535\n",
      "Precision:  0.9144385026737968\n",
      "Recall:  0.957983193277311\n"
     ]
    }
   ],
   "source": [
    "pred_breast = breast_net.predict(data.data)\n",
    "\n",
    "pred_breast = np.round(pred_breast).reshape(-1)\n",
    "\n",
    "print(\"Accuracy: \", Metrics.accuracy(y_breast, pred_breast))\n",
    "print(\"Precision: \", Metrics.precision(y_breast, pred_breast, average=\"binary\"))\n",
    "print(\"Recall: \", Metrics.recall(y_breast, pred_breast, average=\"binary\"))"
   ]
  },
  {
   "cell_type": "code",
   "execution_count": 10,
   "metadata": {},
   "outputs": [
    {
     "name": "stdout",
     "output_type": "stream",
     "text": [
      "Accuracy: 0.9173989455184535\n",
      "Precision: 0.9144385026737968\n",
      "Recall: 0.957983193277311\n"
     ]
    }
   ],
   "source": [
    "# calculate accuracy measures and confusion matrix\n",
    "from sklearn import metrics\n",
    "\n",
    "print(f\"Accuracy: {metrics.accuracy_score(y_breast, pred_breast)}\")\n",
    "print(f\"Precision: {metrics.precision_score(y_breast, pred_breast)}\")\n",
    "print(f\"Recall: {metrics.recall_score(y_breast, pred_breast)}\")\n"
   ]
  },
  {
   "attachments": {},
   "cell_type": "markdown",
   "metadata": {},
   "source": [
    "## Moon"
   ]
  },
  {
   "cell_type": "code",
   "execution_count": 11,
   "metadata": {},
   "outputs": [
    {
     "name": "stdout",
     "output_type": "stream",
     "text": [
      "Summary of the Neural Network\n",
      "___________________________________________________________________________________________________________________\n",
      "Layer (type)        Neurons #      Input Shape    Output Shape   Weights shape  Bias shape        Param #\n",
      "===================================================================================================================\n",
      "Input               2              -              (2, None)      -              -                       0\n",
      "\n",
      "DenseLayer          16             (2, None)      (16, None)     (16, 2)        (16, 1)                48\n",
      "\n",
      "DenseLayer          8              (16, None)     (8, None)      (8, 16)        (8, 1)                136\n",
      "\n",
      "DropoutLayer        -              droupout rate: 0.5            -              -                       0\n",
      "\n",
      "DenseLayer          1              (8, None)      (1, None)      (1, 8)         (1, 1)                  9\n",
      "\n",
      "===================================================================================================================\n",
      "Total params                                                                                          193\n"
     ]
    }
   ],
   "source": [
    "import sklearn\n",
    "import sklearn.datasets\n",
    "X, y = sklearn.datasets.make_moons(500, noise=0.30)\n",
    "\n",
    "moon_net = NeuralNetwork()\n",
    "\n",
    "moon_net.add(DenseLayer(2, 16, activation=\"tanh\"))\n",
    "\n",
    "moon_net.add(DenseLayer(16, 8, activation=\"tanh\"))\n",
    "\n",
    "moon_net.add(DropoutLayer(0.5))\n",
    "\n",
    "moon_net.add(DenseLayer(8, 1, activation=\"sigmoid\"))                    # input_shape=(1, 10)       ;   output_shape=(1, 10)\n",
    "\n",
    "moon_net.use_loss(BinaryCrossentropy())\n",
    "\n",
    "moon_net.summary()"
   ]
  },
  {
   "cell_type": "code",
   "execution_count": 12,
   "metadata": {},
   "outputs": [
    {
     "name": "stdout",
     "output_type": "stream",
     "text": [
      "Epoch 1-1000 ======================> cost: 0.6757\n",
      "Epoch 11-1000 ======================> cost: 0.6471\n",
      "Epoch 21-1000 ======================> cost: 0.6235\n",
      "Epoch 31-1000 ======================> cost: 0.6039\n",
      "Epoch 41-1000 ======================> cost: 0.5870\n",
      "Epoch 51-1000 ======================> cost: 0.5710\n",
      "Epoch 61-1000 ======================> cost: 0.5551\n",
      "Epoch 71-1000 ======================> cost: 0.5402\n",
      "Epoch 81-1000 ======================> cost: 0.5251\n",
      "Epoch 91-1000 ======================> cost: 0.5103\n",
      "Epoch 101-1000 ======================> cost: 0.4958\n",
      "Epoch 111-1000 ======================> cost: 0.4815\n",
      "Epoch 121-1000 ======================> cost: 0.4683\n",
      "Epoch 131-1000 ======================> cost: 0.4555\n",
      "Epoch 141-1000 ======================> cost: 0.4439\n",
      "Epoch 151-1000 ======================> cost: 0.4336\n",
      "Epoch 161-1000 ======================> cost: 0.4239\n",
      "Epoch 171-1000 ======================> cost: 0.4154\n",
      "Epoch 181-1000 ======================> cost: 0.4081\n",
      "Epoch 191-1000 ======================> cost: 0.4021\n",
      "Epoch 201-1000 ======================> cost: 0.3958\n",
      "Epoch 211-1000 ======================> cost: 0.3910\n",
      "Epoch 221-1000 ======================> cost: 0.3866\n",
      "Epoch 231-1000 ======================> cost: 0.3826\n",
      "Epoch 241-1000 ======================> cost: 0.3791\n",
      "Epoch 251-1000 ======================> cost: 0.3761\n",
      "Epoch 261-1000 ======================> cost: 0.3733\n",
      "Epoch 271-1000 ======================> cost: 0.3716\n",
      "Epoch 281-1000 ======================> cost: 0.3693\n",
      "Epoch 291-1000 ======================> cost: 0.3678\n",
      "Epoch 301-1000 ======================> cost: 0.3662\n",
      "Epoch 311-1000 ======================> cost: 0.3643\n",
      "Epoch 321-1000 ======================> cost: 0.3629\n",
      "Epoch 331-1000 ======================> cost: 0.3623\n",
      "Epoch 341-1000 ======================> cost: 0.3613\n",
      "Epoch 351-1000 ======================> cost: 0.3606\n",
      "Epoch 361-1000 ======================> cost: 0.3598\n",
      "Epoch 371-1000 ======================> cost: 0.3592\n",
      "Epoch 381-1000 ======================> cost: 0.3586\n",
      "Epoch 391-1000 ======================> cost: 0.3581\n",
      "Epoch 401-1000 ======================> cost: 0.3580\n",
      "Epoch 411-1000 ======================> cost: 0.3576\n",
      "Epoch 421-1000 ======================> cost: 0.3573\n",
      "Epoch 431-1000 ======================> cost: 0.3576\n",
      "Epoch 441-1000 ======================> cost: 0.3571\n",
      "Epoch 451-1000 ======================> cost: 0.3571\n",
      "Epoch 461-1000 ======================> cost: 0.3572\n",
      "Epoch 471-1000 ======================> cost: 0.3570\n",
      "Epoch 481-1000 ======================> cost: 0.3569\n",
      "Epoch 491-1000 ======================> cost: 0.3569\n",
      "Epoch 501-1000 ======================> cost: 0.3566\n",
      "Epoch 511-1000 ======================> cost: 0.3569\n",
      "Epoch 521-1000 ======================> cost: 0.3569\n",
      "Epoch 531-1000 ======================> cost: 0.3569\n",
      "Epoch 541-1000 ======================> cost: 0.3576\n",
      "Epoch 551-1000 ======================> cost: 0.3578\n",
      "Epoch 561-1000 ======================> cost: 0.3572\n",
      "Epoch 571-1000 ======================> cost: 0.3571\n",
      "Epoch 581-1000 ======================> cost: 0.3572\n",
      "Epoch 591-1000 ======================> cost: 0.3576\n",
      "Epoch 601-1000 ======================> cost: 0.3583\n",
      "Epoch 611-1000 ======================> cost: 0.3588\n",
      "Epoch 621-1000 ======================> cost: 0.3593\n",
      "Epoch 631-1000 ======================> cost: 0.3596\n",
      "Epoch 641-1000 ======================> cost: 0.3599\n",
      "Epoch 651-1000 ======================> cost: 0.3599\n",
      "Epoch 661-1000 ======================> cost: 0.3605\n",
      "Epoch 671-1000 ======================> cost: 0.3607\n",
      "Epoch 681-1000 ======================> cost: 0.3609\n",
      "Epoch 691-1000 ======================> cost: 0.3613\n",
      "Epoch 701-1000 ======================> cost: 0.3623\n",
      "Epoch 711-1000 ======================> cost: 0.3628\n",
      "Epoch 721-1000 ======================> cost: 0.3630\n",
      "Epoch 731-1000 ======================> cost: 0.3630\n",
      "Epoch 741-1000 ======================> cost: 0.3635\n",
      "Epoch 751-1000 ======================> cost: 0.3636\n",
      "Epoch 761-1000 ======================> cost: 0.3645\n",
      "Epoch 771-1000 ======================> cost: 0.3647\n",
      "Epoch 781-1000 ======================> cost: 0.3652\n",
      "Epoch 791-1000 ======================> cost: 0.3656\n",
      "Epoch 801-1000 ======================> cost: 0.3657\n",
      "Epoch 811-1000 ======================> cost: 0.3661\n",
      "Epoch 821-1000 ======================> cost: 0.3667\n",
      "Epoch 831-1000 ======================> cost: 0.3674\n",
      "Epoch 841-1000 ======================> cost: 0.3675\n",
      "Epoch 851-1000 ======================> cost: 0.3684\n",
      "Epoch 861-1000 ======================> cost: 0.3688\n",
      "Epoch 871-1000 ======================> cost: 0.3691\n",
      "Epoch 881-1000 ======================> cost: 0.3697\n",
      "Epoch 891-1000 ======================> cost: 0.3700\n",
      "Epoch 901-1000 ======================> cost: 0.3707\n",
      "Epoch 911-1000 ======================> cost: 0.3713\n",
      "Epoch 921-1000 ======================> cost: 0.3721\n",
      "Epoch 931-1000 ======================> cost: 0.3728\n",
      "Epoch 941-1000 ======================> cost: 0.3733\n",
      "Epoch 951-1000 ======================> cost: 0.3738\n",
      "Epoch 961-1000 ======================> cost: 0.3741\n",
      "Epoch 971-1000 ======================> cost: 0.3748\n",
      "Epoch 981-1000 ======================> cost: 0.3749\n",
      "Epoch 991-1000 ======================> cost: 0.3754\n"
     ]
    }
   ],
   "source": [
    "moon_net.fit(X, y, epochs=1000, learning_rate=0.01, verbose=1, batch_size=128)"
   ]
  },
  {
   "cell_type": "code",
   "execution_count": 13,
   "metadata": {},
   "outputs": [
    {
     "name": "stdout",
     "output_type": "stream",
     "text": [
      "Accuracy:  0.856\n",
      "Precision:  0.8449612403100775\n",
      "Recall:  0.872\n",
      "R2:  0.42400000000000004\n"
     ]
    }
   ],
   "source": [
    "moon_pred = moon_net.predict(X)\n",
    "\n",
    "# as this is also a binary classification, we need to reshape the output to 1D array\n",
    "moon_pred = np.round(moon_pred).reshape(-1)\n",
    "\n",
    "print(\"Accuracy: \", Metrics.accuracy(y, moon_pred))\n",
    "print(\"Precision: \", Metrics.precision(y, moon_pred, average=\"binary\"))\n",
    "print(\"Recall: \", Metrics.recall(y, moon_pred, average=\"binary\"))\n",
    "print(\"R2: \", Metrics.r2_score(y, moon_pred))"
   ]
  },
  {
   "cell_type": "code",
   "execution_count": 14,
   "metadata": {},
   "outputs": [
    {
     "name": "stdout",
     "output_type": "stream",
     "text": [
      "Accuracy:  0.856\n",
      "Precision:  0.8449612403100775\n",
      "Recall:  0.872\n",
      "R2:  0.42400000000000004\n"
     ]
    }
   ],
   "source": [
    "print(\"Accuracy: \", metrics.accuracy_score(y, moon_pred))\n",
    "print(\"Precision: \", metrics.precision_score(y, moon_pred))\n",
    "print(\"Recall: \", metrics.recall_score(y, moon_pred))\n",
    "print(\"R2: \", metrics.r2_score(y, moon_pred))"
   ]
  },
  {
   "attachments": {},
   "cell_type": "markdown",
   "metadata": {},
   "source": [
    "## MNIST Digit Recognition"
   ]
  },
  {
   "cell_type": "code",
   "execution_count": 15,
   "metadata": {},
   "outputs": [],
   "source": [
    "df = pd.read_csv('data/fashion-mnist_train.csv')\n",
    "y_train = df['label'].values\n",
    "x_train = df.drop('label', axis=1).values/255.\n",
    "\n",
    "test_df = pd.read_csv('data/fashion-mnist_test.csv')\n",
    "y_test = test_df['label'].values\n",
    "x_test = test_df.drop('label', axis=1).values/255."
   ]
  },
  {
   "cell_type": "code",
   "execution_count": 16,
   "metadata": {},
   "outputs": [],
   "source": [
    "precisions_ = []\n",
    "accuracies_ = []\n",
    "recalls_ = []\n",
    "f1s_ = []\n",
    "losses_ = []\n",
    "\n",
    "\n",
    "def callback(true, predicted, loss, epoch):\n",
    "    losses_.append(loss)\n",
    "    pred  = Metrics.predict_classes(predicted)\n",
    "    # print(pred.shape)\n",
    "    global precisions_\n",
    "    global accuracies_\n",
    "    global recalls_\n",
    "    global f1s_\n",
    "    precisions_.append(Metrics.precision(true, pred))\n",
    "    accuracies_.append(Metrics.accuracy(true, pred))\n",
    "    recalls_.append(Metrics.recall(true, pred))\n",
    "    f1s_.append(Metrics.f1_score(true, pred))"
   ]
  },
  {
   "cell_type": "code",
   "execution_count": 17,
   "metadata": {},
   "outputs": [
    {
     "name": "stdout",
     "output_type": "stream",
     "text": [
      "Summary of the Neural Network\n",
      "___________________________________________________________________________________________________________________\n",
      "Layer (type)        Neurons #      Input Shape    Output Shape   Weights shape  Bias shape        Param #\n",
      "===================================================================================================================\n",
      "Input               784            -              (784, None)    -              -                       0\n",
      "\n",
      "DenseLayer          20             (784, None)    (20, None)     (20, 784)      (20, 1)             15700\n",
      "\n",
      "DenseLayer          10             (20, None)     (10, None)     (10, 20)       (10, 1)               210\n",
      "\n",
      "DenseLayer          8              (10, None)     (8, None)      (8, 10)        (8, 1)                 88\n",
      "\n",
      "BatchNormalization  -              epsilon:       1e-08          -              -                       -\n",
      "\n",
      "DenseLayer          10             (8, None)      (10, None)     (10, 8)        (10, 1)                90\n",
      "\n",
      "===================================================================================================================\n",
      "Total params                                                                                        16088\n"
     ]
    }
   ],
   "source": [
    "digits = NeuralNetwork()\n",
    "\n",
    "digits.add(DenseLayer(28*28, 20, activation=\"relu\"))              \n",
    "\n",
    "digits.add(DenseLayer(20, 10, activation=\"relu\"))                \n",
    "\n",
    "# digits.add(DropoutLayer(dropout_rate=0.2))\n",
    "\n",
    "digits.add(DenseLayer(10, 8, activation=\"relu\"))\n",
    "\n",
    "digits.add(BatchNormalization(8))\n",
    "\n",
    "digits.add(DenseLayer(8, 10, activation=\"softmax\"))                   \n",
    "\n",
    "digits.use_loss(CategoricalCrossentropy())\n",
    "\n",
    "digits.summary()"
   ]
  },
  {
   "cell_type": "code",
   "execution_count": 18,
   "metadata": {},
   "outputs": [
    {
     "name": "stdout",
     "output_type": "stream",
     "text": [
      "Epoch 1-100 ======================> cost: 1.7603\n",
      "Epoch 11-100 ======================> cost: 0.7653\n",
      "Epoch 21-100 ======================> cost: 0.5655\n",
      "Epoch 31-100 ======================> cost: 0.4581\n",
      "Epoch 41-100 ======================> cost: 0.3963\n",
      "Epoch 51-100 ======================> cost: 0.3665\n",
      "Epoch 61-100 ======================> cost: 0.3357\n",
      "Epoch 71-100 ======================> cost: 0.3179\n",
      "Epoch 81-100 ======================> cost: 0.2920\n",
      "Epoch 91-100 ======================> cost: 0.2837\n"
     ]
    }
   ],
   "source": [
    "y_oh = np.array(pd.get_dummies(y_train))\n",
    "digits.fit(x_train, y_oh, epochs=100, learning_rate=0.01,  batch_size=128, verbose=1, callback=callback)"
   ]
  },
  {
   "cell_type": "code",
   "execution_count": 19,
   "metadata": {},
   "outputs": [
    {
     "data": {
      "image/png": "[encoded data removed]",
      "text/plain": [
       "<Figure size 2500x500 with 4 Axes>"
      ]
     },
     "metadata": {},
     "output_type": "display_data"
    }
   ],
   "source": [
    "def plot_metrics(metrics, titles):\n",
    "    # plot all the metrics in one plot\n",
    "\n",
    "    fig, ax = plt.subplots(1, len(metrics), figsize=(25, 5))\n",
    "    if len(metrics) == 1:\n",
    "        ax = [ax]\n",
    "\n",
    "    for i, metric in enumerate(metrics):\n",
    "        ax[i].plot(metric)\n",
    "        ax[i].set_title(titles[i])\n",
    "        ax[i].set_xlabel(\"Epochs\")\n",
    "        ax[i].set_ylabel(titles[i])\n",
    "    plt.show()\n",
    "\n",
    "plot_metrics([precisions_, accuracies_, recalls_, f1s_], [\"Precision\", \"Accuracy\", \"Recall\", \"F1\"])"
   ]
  },
  {
   "cell_type": "code",
   "execution_count": 20,
   "metadata": {},
   "outputs": [
    {
     "data": {
      "image/png": "[encoded data removed]",
      "text/plain": [
       "<Figure size 2500x500 with 1 Axes>"
      ]
     },
     "metadata": {},
     "output_type": "display_data"
    }
   ],
   "source": [
    "plot_metrics([losses_], [\"Caterogical Cross-Entropy\"])"
   ]
  },
  {
   "cell_type": "code",
   "execution_count": 21,
   "metadata": {},
   "outputs": [
    {
     "data": {
      "text/plain": [
       "0.9081"
      ]
     },
     "execution_count": 21,
     "metadata": {},
     "output_type": "execute_result"
    }
   ],
   "source": [
    "prob_train = digits.predict(x_train)\n",
    "\n",
    "# as this is not a binary classification, we need to use predict_classes and then accuracy\n",
    "train_pred = Metrics.predict_classes(prob_train)\n",
    "Metrics.accuracy(y_train, train_pred)"
   ]
  },
  {
   "cell_type": "code",
   "execution_count": 22,
   "metadata": {},
   "outputs": [
    {
     "name": "stdout",
     "output_type": "stream",
     "text": [
      "Test Accuracy:  0.8\n"
     ]
    }
   ],
   "source": [
    "prob_test = digits.predict(x_test)\n",
    "test_pred = Metrics.predict_classes(prob_test)\n",
    "print(\"Test Accuracy: \", Metrics.accuracy(y_test, test_pred))"
   ]
  },
  {
   "cell_type": "code",
   "execution_count": 23,
   "metadata": {},
   "outputs": [
    {
     "name": "stdout",
     "output_type": "stream",
     "text": [
      "Training Precision: 0.9096\n",
      "Testing Precision:  0.8200\n"
     ]
    }
   ],
   "source": [
    "train_prec = Metrics.precision(y_train, train_pred, average=\"macro\")\n",
    "test_prec = Metrics.precision(y_test, test_pred, average=\"macro\")\n",
    "\n",
    "print(f\"Training Precision: {train_prec:.4f}\\nTesting Precision:  {test_prec:.4f}\")"
   ]
  },
  {
   "cell_type": "code",
   "execution_count": 29,
   "metadata": {},
   "outputs": [
    {
     "data": {
      "text/plain": [
       "0.8350909090909091"
      ]
     },
     "execution_count": 29,
     "metadata": {},
     "output_type": "execute_result"
    }
   ],
   "source": [
    "Metrics.r2_score(y_train, train_pred)"
   ]
  },
  {
   "cell_type": "code",
   "execution_count": 25,
   "metadata": {},
   "outputs": [
    {
     "data": {
      "text/plain": [
       "array([[905,   1,  10,  20,   0,   0,  57,   0,   7,   0],\n",
       "       [  0, 985,   4,   5,   5,   0,   0,   1,   0,   0],\n",
       "       [ 11,   3, 792,   4, 104,   0,  83,   0,   3,   0],\n",
       "       [ 33,  15,   3, 888,  32,   0,  28,   0,   0,   1],\n",
       "       [  1,   5,  38,   2, 882,   0,  71,   0,   1,   0],\n",
       "       [  0,   0,   0,   0,   0, 986,   1,  11,   0,   2],\n",
       "       [162,   4,  37,  11,  55,   0, 727,   0,   4,   0],\n",
       "       [  0,   0,   0,   0,   0,  38,   0, 953,   0,   9],\n",
       "       [  4,   0,   2,   0,   1,   0,   6,   0, 987,   0],\n",
       "       [  0,   0,   0,   0,   0,   8,   0,  15,   1, 976]])"
      ]
     },
     "execution_count": 25,
     "metadata": {},
     "output_type": "execute_result"
    }
   ],
   "source": [
    "metrics.confusion_matrix(y_train, train_pred)"
   ]
  },
  {
   "cell_type": "code",
   "execution_count": 26,
   "metadata": {},
   "outputs": [
    {
     "data": {
      "text/html": [
       "<div>\n",
       "<style scoped>\n",
       "    .dataframe tbody tr th:only-of-type {\n",
       "        vertical-align: middle;\n",
       "    }\n",
       "\n",
       "    .dataframe tbody tr th {\n",
       "        vertical-align: top;\n",
       "    }\n",
       "\n",
       "    .dataframe thead th {\n",
       "        text-align: right;\n",
       "    }\n",
       "</style>\n",
       "<table border=\"1\" class=\"dataframe\">\n",
       "  <thead>\n",
       "    <tr style=\"text-align: right;\">\n",
       "      <th>Predicted</th>\n",
       "      <th>0</th>\n",
       "      <th>1</th>\n",
       "      <th>2</th>\n",
       "      <th>3</th>\n",
       "      <th>4</th>\n",
       "      <th>5</th>\n",
       "      <th>6</th>\n",
       "      <th>7</th>\n",
       "      <th>8</th>\n",
       "      <th>9</th>\n",
       "    </tr>\n",
       "    <tr>\n",
       "      <th>Actual</th>\n",
       "      <th></th>\n",
       "      <th></th>\n",
       "      <th></th>\n",
       "      <th></th>\n",
       "      <th></th>\n",
       "      <th></th>\n",
       "      <th></th>\n",
       "      <th></th>\n",
       "      <th></th>\n",
       "      <th></th>\n",
       "    </tr>\n",
       "  </thead>\n",
       "  <tbody>\n",
       "    <tr>\n",
       "      <th>0</th>\n",
       "      <td>905</td>\n",
       "      <td>1</td>\n",
       "      <td>10</td>\n",
       "      <td>20</td>\n",
       "      <td>0</td>\n",
       "      <td>0</td>\n",
       "      <td>57</td>\n",
       "      <td>0</td>\n",
       "      <td>7</td>\n",
       "      <td>0</td>\n",
       "    </tr>\n",
       "    <tr>\n",
       "      <th>1</th>\n",
       "      <td>0</td>\n",
       "      <td>985</td>\n",
       "      <td>4</td>\n",
       "      <td>5</td>\n",
       "      <td>5</td>\n",
       "      <td>0</td>\n",
       "      <td>0</td>\n",
       "      <td>1</td>\n",
       "      <td>0</td>\n",
       "      <td>0</td>\n",
       "    </tr>\n",
       "    <tr>\n",
       "      <th>2</th>\n",
       "      <td>11</td>\n",
       "      <td>3</td>\n",
       "      <td>792</td>\n",
       "      <td>4</td>\n",
       "      <td>104</td>\n",
       "      <td>0</td>\n",
       "      <td>83</td>\n",
       "      <td>0</td>\n",
       "      <td>3</td>\n",
       "      <td>0</td>\n",
       "    </tr>\n",
       "    <tr>\n",
       "      <th>3</th>\n",
       "      <td>33</td>\n",
       "      <td>15</td>\n",
       "      <td>3</td>\n",
       "      <td>888</td>\n",
       "      <td>32</td>\n",
       "      <td>0</td>\n",
       "      <td>28</td>\n",
       "      <td>0</td>\n",
       "      <td>0</td>\n",
       "      <td>1</td>\n",
       "    </tr>\n",
       "    <tr>\n",
       "      <th>4</th>\n",
       "      <td>1</td>\n",
       "      <td>5</td>\n",
       "      <td>38</td>\n",
       "      <td>2</td>\n",
       "      <td>882</td>\n",
       "      <td>0</td>\n",
       "      <td>71</td>\n",
       "      <td>0</td>\n",
       "      <td>1</td>\n",
       "      <td>0</td>\n",
       "    </tr>\n",
       "    <tr>\n",
       "      <th>5</th>\n",
       "      <td>0</td>\n",
       "      <td>0</td>\n",
       "      <td>0</td>\n",
       "      <td>0</td>\n",
       "      <td>0</td>\n",
       "      <td>986</td>\n",
       "      <td>1</td>\n",
       "      <td>11</td>\n",
       "      <td>0</td>\n",
       "      <td>2</td>\n",
       "    </tr>\n",
       "    <tr>\n",
       "      <th>6</th>\n",
       "      <td>162</td>\n",
       "      <td>4</td>\n",
       "      <td>37</td>\n",
       "      <td>11</td>\n",
       "      <td>55</td>\n",
       "      <td>0</td>\n",
       "      <td>727</td>\n",
       "      <td>0</td>\n",
       "      <td>4</td>\n",
       "      <td>0</td>\n",
       "    </tr>\n",
       "    <tr>\n",
       "      <th>7</th>\n",
       "      <td>0</td>\n",
       "      <td>0</td>\n",
       "      <td>0</td>\n",
       "      <td>0</td>\n",
       "      <td>0</td>\n",
       "      <td>38</td>\n",
       "      <td>0</td>\n",
       "      <td>953</td>\n",
       "      <td>0</td>\n",
       "      <td>9</td>\n",
       "    </tr>\n",
       "    <tr>\n",
       "      <th>8</th>\n",
       "      <td>4</td>\n",
       "      <td>0</td>\n",
       "      <td>2</td>\n",
       "      <td>0</td>\n",
       "      <td>1</td>\n",
       "      <td>0</td>\n",
       "      <td>6</td>\n",
       "      <td>0</td>\n",
       "      <td>987</td>\n",
       "      <td>0</td>\n",
       "    </tr>\n",
       "    <tr>\n",
       "      <th>9</th>\n",
       "      <td>0</td>\n",
       "      <td>0</td>\n",
       "      <td>0</td>\n",
       "      <td>0</td>\n",
       "      <td>0</td>\n",
       "      <td>8</td>\n",
       "      <td>0</td>\n",
       "      <td>15</td>\n",
       "      <td>1</td>\n",
       "      <td>976</td>\n",
       "    </tr>\n",
       "  </tbody>\n",
       "</table>\n",
       "</div>"
      ],
      "text/plain": [
       "Predicted    0    1    2    3    4    5    6    7    8    9\n",
       "Actual                                                     \n",
       "0          905    1   10   20    0    0   57    0    7    0\n",
       "1            0  985    4    5    5    0    0    1    0    0\n",
       "2           11    3  792    4  104    0   83    0    3    0\n",
       "3           33   15    3  888   32    0   28    0    0    1\n",
       "4            1    5   38    2  882    0   71    0    1    0\n",
       "5            0    0    0    0    0  986    1   11    0    2\n",
       "6          162    4   37   11   55    0  727    0    4    0\n",
       "7            0    0    0    0    0   38    0  953    0    9\n",
       "8            4    0    2    0    1    0    6    0  987    0\n",
       "9            0    0    0    0    0    8    0   15    1  976"
      ]
     },
     "execution_count": 26,
     "metadata": {},
     "output_type": "execute_result"
    }
   ],
   "source": [
    "Metrics.confusion_matrix(y_train, train_pred)"
   ]
  },
  {
   "cell_type": "code",
   "execution_count": 27,
   "metadata": {},
   "outputs": [
    {
     "data": {
      "text/plain": [
       "array([[3, 0, 0, 0, 0, 0, 0, 0, 1, 0],\n",
       "       [0, 1, 0, 0, 0, 0, 0, 0, 0, 0],\n",
       "       [1, 0, 1, 0, 0, 0, 0, 0, 1, 0],\n",
       "       [1, 0, 0, 3, 0, 0, 0, 0, 0, 0],\n",
       "       [0, 0, 0, 0, 6, 0, 1, 0, 0, 0],\n",
       "       [0, 0, 0, 0, 0, 1, 0, 0, 0, 0],\n",
       "       [0, 0, 0, 0, 0, 0, 1, 0, 0, 0],\n",
       "       [0, 0, 0, 0, 0, 0, 0, 2, 0, 0],\n",
       "       [0, 1, 0, 0, 0, 0, 0, 0, 3, 0],\n",
       "       [0, 0, 0, 0, 0, 0, 0, 0, 0, 3]])"
      ]
     },
     "execution_count": 27,
     "metadata": {},
     "output_type": "execute_result"
    }
   ],
   "source": [
    "metrics.confusion_matrix(y_test, test_pred)"
   ]
  },
  {
   "cell_type": "code",
   "execution_count": 28,
   "metadata": {},
   "outputs": [
    {
     "data": {
      "text/html": [
       "<div>\n",
       "<style scoped>\n",
       "    .dataframe tbody tr th:only-of-type {\n",
       "        vertical-align: middle;\n",
       "    }\n",
       "\n",
       "    .dataframe tbody tr th {\n",
       "        vertical-align: top;\n",
       "    }\n",
       "\n",
       "    .dataframe thead th {\n",
       "        text-align: right;\n",
       "    }\n",
       "</style>\n",
       "<table border=\"1\" class=\"dataframe\">\n",
       "  <thead>\n",
       "    <tr style=\"text-align: right;\">\n",
       "      <th>Predicted</th>\n",
       "      <th>0</th>\n",
       "      <th>1</th>\n",
       "      <th>2</th>\n",
       "      <th>3</th>\n",
       "      <th>4</th>\n",
       "      <th>5</th>\n",
       "      <th>6</th>\n",
       "      <th>7</th>\n",
       "      <th>8</th>\n",
       "      <th>9</th>\n",
       "    </tr>\n",
       "    <tr>\n",
       "      <th>Actual</th>\n",
       "      <th></th>\n",
       "      <th></th>\n",
       "      <th></th>\n",
       "      <th></th>\n",
       "      <th></th>\n",
       "      <th></th>\n",
       "      <th></th>\n",
       "      <th></th>\n",
       "      <th></th>\n",
       "      <th></th>\n",
       "    </tr>\n",
       "  </thead>\n",
       "  <tbody>\n",
       "    <tr>\n",
       "      <th>0</th>\n",
       "      <td>3</td>\n",
       "      <td>0</td>\n",
       "      <td>0</td>\n",
       "      <td>0</td>\n",
       "      <td>0</td>\n",
       "      <td>0</td>\n",
       "      <td>0</td>\n",
       "      <td>0</td>\n",
       "      <td>1</td>\n",
       "      <td>0</td>\n",
       "    </tr>\n",
       "    <tr>\n",
       "      <th>1</th>\n",
       "      <td>0</td>\n",
       "      <td>1</td>\n",
       "      <td>0</td>\n",
       "      <td>0</td>\n",
       "      <td>0</td>\n",
       "      <td>0</td>\n",
       "      <td>0</td>\n",
       "      <td>0</td>\n",
       "      <td>0</td>\n",
       "      <td>0</td>\n",
       "    </tr>\n",
       "    <tr>\n",
       "      <th>2</th>\n",
       "      <td>1</td>\n",
       "      <td>0</td>\n",
       "      <td>1</td>\n",
       "      <td>0</td>\n",
       "      <td>0</td>\n",
       "      <td>0</td>\n",
       "      <td>0</td>\n",
       "      <td>0</td>\n",
       "      <td>1</td>\n",
       "      <td>0</td>\n",
       "    </tr>\n",
       "    <tr>\n",
       "      <th>3</th>\n",
       "      <td>1</td>\n",
       "      <td>0</td>\n",
       "      <td>0</td>\n",
       "      <td>3</td>\n",
       "      <td>0</td>\n",
       "      <td>0</td>\n",
       "      <td>0</td>\n",
       "      <td>0</td>\n",
       "      <td>0</td>\n",
       "      <td>0</td>\n",
       "    </tr>\n",
       "    <tr>\n",
       "      <th>4</th>\n",
       "      <td>0</td>\n",
       "      <td>0</td>\n",
       "      <td>0</td>\n",
       "      <td>0</td>\n",
       "      <td>6</td>\n",
       "      <td>0</td>\n",
       "      <td>1</td>\n",
       "      <td>0</td>\n",
       "      <td>0</td>\n",
       "      <td>0</td>\n",
       "    </tr>\n",
       "    <tr>\n",
       "      <th>5</th>\n",
       "      <td>0</td>\n",
       "      <td>0</td>\n",
       "      <td>0</td>\n",
       "      <td>0</td>\n",
       "      <td>0</td>\n",
       "      <td>1</td>\n",
       "      <td>0</td>\n",
       "      <td>0</td>\n",
       "      <td>0</td>\n",
       "      <td>0</td>\n",
       "    </tr>\n",
       "    <tr>\n",
       "      <th>6</th>\n",
       "      <td>0</td>\n",
       "      <td>0</td>\n",
       "      <td>0</td>\n",
       "      <td>0</td>\n",
       "      <td>0</td>\n",
       "      <td>0</td>\n",
       "      <td>1</td>\n",
       "      <td>0</td>\n",
       "      <td>0</td>\n",
       "      <td>0</td>\n",
       "    </tr>\n",
       "    <tr>\n",
       "      <th>7</th>\n",
       "      <td>0</td>\n",
       "      <td>0</td>\n",
       "      <td>0</td>\n",
       "      <td>0</td>\n",
       "      <td>0</td>\n",
       "      <td>0</td>\n",
       "      <td>0</td>\n",
       "      <td>2</td>\n",
       "      <td>0</td>\n",
       "      <td>0</td>\n",
       "    </tr>\n",
       "    <tr>\n",
       "      <th>8</th>\n",
       "      <td>0</td>\n",
       "      <td>1</td>\n",
       "      <td>0</td>\n",
       "      <td>0</td>\n",
       "      <td>0</td>\n",
       "      <td>0</td>\n",
       "      <td>0</td>\n",
       "      <td>0</td>\n",
       "      <td>3</td>\n",
       "      <td>0</td>\n",
       "    </tr>\n",
       "    <tr>\n",
       "      <th>9</th>\n",
       "      <td>0</td>\n",
       "      <td>0</td>\n",
       "      <td>0</td>\n",
       "      <td>0</td>\n",
       "      <td>0</td>\n",
       "      <td>0</td>\n",
       "      <td>0</td>\n",
       "      <td>0</td>\n",
       "      <td>0</td>\n",
       "      <td>3</td>\n",
       "    </tr>\n",
       "  </tbody>\n",
       "</table>\n",
       "</div>"
      ],
      "text/plain": [
       "Predicted  0  1  2  3  4  5  6  7  8  9\n",
       "Actual                                 \n",
       "0          3  0  0  0  0  0  0  0  1  0\n",
       "1          0  1  0  0  0  0  0  0  0  0\n",
       "2          1  0  1  0  0  0  0  0  1  0\n",
       "3          1  0  0  3  0  0  0  0  0  0\n",
       "4          0  0  0  0  6  0  1  0  0  0\n",
       "5          0  0  0  0  0  1  0  0  0  0\n",
       "6          0  0  0  0  0  0  1  0  0  0\n",
       "7          0  0  0  0  0  0  0  2  0  0\n",
       "8          0  1  0  0  0  0  0  0  3  0\n",
       "9          0  0  0  0  0  0  0  0  0  3"
      ]
     },
     "execution_count": 28,
     "metadata": {},
     "output_type": "execute_result"
    }
   ],
   "source": [
    "Metrics.confusion_matrix(y_test, test_pred)"
   ]
  },
  {
   "attachments": {},
   "cell_type": "markdown",
   "metadata": {},
   "source": [
    "***"
   ]
  }
 ],
 "metadata": {
  "kernelspec": {
   "display_name": "my_env",
   "language": "python",
   "name": "python3"
  },
  "language_info": {
   "codemirror_mode": {
    "name": "ipython",
    "version": 3
   },
   "file_extension": ".py",
   "mimetype": "text/x-python",
   "name": "python",
   "nbconvert_exporter": "python",
   "pygments_lexer": "ipython3",
   "version": "3.10.6"
  },
  "orig_nbformat": 4,
  "vscode": {
   "interpreter": {
    "hash": "a4a1b8dfbfcf197657bbe13300384e076b1914ebd98f1200feef09f71d03b223"
   }
  }
 },
 "nbformat": 4,
 "nbformat_minor": 2
}
