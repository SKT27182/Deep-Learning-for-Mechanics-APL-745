{
 "cells": [
  {
   "cell_type": "code",
   "execution_count": 1,
   "metadata": {},
   "outputs": [],
   "source": [
    "import numpy as np\n",
    "import pandas as pd\n",
    "import matplotlib.pyplot as plt\n",
    "\n",
    "from  neural.nn import NeuralNetwork\n",
    "from  neural.layers import ActivationLayer, DenseLayer, DropoutLayer, BatchNormalization\n",
    "from  neural.losses import MSE,  BinaryCrossentropy, CategoricalCrossentropy\n",
    "from neural.activations import Tanh\n",
    "from neural.metrics import Metrics"
   ]
  },
  {
   "attachments": {},
   "cell_type": "markdown",
   "metadata": {},
   "source": [
    "## XNOR Gate"
   ]
  },
  {
   "cell_type": "code",
   "execution_count": 2,
   "metadata": {},
   "outputs": [],
   "source": [
    "# training data\n",
    "x_train = np.array([[0,0], [0,1], [1,0], [1,1]])\n",
    "y_train = np.array([[0], [1], [1], [0]])\n",
    "\n",
    "\n",
    "# network\n",
    "net = NeuralNetwork()\n",
    "\n",
    "net.add(DenseLayer(2, 8, bias=False))\n",
    "net.add(ActivationLayer(Tanh))\n",
    "\n",
    "net.add(DenseLayer(8, 4, activation=\"tanh\"))\n",
    "\n",
    "net.add(DenseLayer(4, 1, activation=\"sigmoid\"))                    # input_shape=(1, 10)       ;   output_shape=(1, 10)\n",
    "# net.add(ActivationLayer(Sigmoid))\n",
    "\n",
    "# net.use_loss(MSE_loss)\n",
    "net.use_loss(BinaryCrossentropy())\n"
   ]
  },
  {
   "cell_type": "code",
   "execution_count": 3,
   "metadata": {},
   "outputs": [
    {
     "name": "stdout",
     "output_type": "stream",
     "text": [
      "Summary of the Neural Network\n",
      "___________________________________________________________________________________________________________________\n",
      "Layer (type)        Neurons #      Input Shape    Output Shape   Weights shape  Bias shape        Param #\n",
      "===================================================================================================================\n",
      "Input               2              -              (2, None)      -              -                       0\n",
      "\n",
      "DenseLayer          8              (2, None)      (8, None)      (8, 2)         0                      24\n",
      "\n",
      "ActivationLayer     -              activavtion    Tanh           -              -                       0\n",
      "\n",
      "DenseLayer          4              (8, None)      (4, None)      (4, 8)         (4, 1)                 36\n",
      "\n",
      "DenseLayer          1              (4, None)      (1, None)      (1, 4)         (1, 1)                  5\n",
      "\n",
      "===================================================================================================================\n",
      "Total params                                                                                           65\n"
     ]
    }
   ],
   "source": [
    "net.summary()"
   ]
  },
  {
   "cell_type": "code",
   "execution_count": 4,
   "metadata": {},
   "outputs": [
    {
     "name": "stdout",
     "output_type": "stream",
     "text": [
      "Epoch 1-50 ======================> cost: 0.6799\n",
      "Epoch 11-50 ======================> cost: 0.5257\n",
      "Epoch 21-50 ======================> cost: 0.3154\n",
      "Epoch 31-50 ======================> cost: 0.1442\n",
      "Epoch 41-50 ======================> cost: 0.0711\n",
      "[[0.02458836]\n",
      " [0.92636395]\n",
      " [0.96314347]\n",
      " [0.03714954]]\n"
     ]
    }
   ],
   "source": [
    "net.fit(x_train, y_train, epochs=50, learning_rate=0.9, verbose=1)\n",
    "\n",
    "# test\n",
    "out = net.predict(x_train)\n",
    "print(out)"
   ]
  },
  {
   "cell_type": "code",
   "execution_count": 6,
   "metadata": {},
   "outputs": [
    {
     "data": {
      "text/plain": [
       "1.0"
      ]
     },
     "execution_count": 6,
     "metadata": {},
     "output_type": "execute_result"
    }
   ],
   "source": [
    "xor_pred = np.round(out)\n",
    "\n",
    "Metrics.accuracy(y_train, xor_pred)"
   ]
  },
  {
   "attachments": {},
   "cell_type": "markdown",
   "metadata": {},
   "source": [
    "## Breast Cancer"
   ]
  },
  {
   "cell_type": "code",
   "execution_count": 7,
   "metadata": {},
   "outputs": [
    {
     "data": {
      "text/html": [
       "<div>\n",
       "<style scoped>\n",
       "    .dataframe tbody tr th:only-of-type {\n",
       "        vertical-align: middle;\n",
       "    }\n",
       "\n",
       "    .dataframe tbody tr th {\n",
       "        vertical-align: top;\n",
       "    }\n",
       "\n",
       "    .dataframe thead th {\n",
       "        text-align: right;\n",
       "    }\n",
       "</style>\n",
       "<table border=\"1\" class=\"dataframe\">\n",
       "  <thead>\n",
       "    <tr style=\"text-align: right;\">\n",
       "      <th></th>\n",
       "      <th>mean radius</th>\n",
       "      <th>mean texture</th>\n",
       "      <th>mean perimeter</th>\n",
       "      <th>mean area</th>\n",
       "      <th>mean smoothness</th>\n",
       "      <th>mean compactness</th>\n",
       "      <th>mean concavity</th>\n",
       "      <th>mean concave points</th>\n",
       "      <th>mean symmetry</th>\n",
       "      <th>mean fractal dimension</th>\n",
       "      <th>...</th>\n",
       "      <th>worst radius</th>\n",
       "      <th>worst texture</th>\n",
       "      <th>worst perimeter</th>\n",
       "      <th>worst area</th>\n",
       "      <th>worst smoothness</th>\n",
       "      <th>worst compactness</th>\n",
       "      <th>worst concavity</th>\n",
       "      <th>worst concave points</th>\n",
       "      <th>worst symmetry</th>\n",
       "      <th>worst fractal dimension</th>\n",
       "    </tr>\n",
       "  </thead>\n",
       "  <tbody>\n",
       "    <tr>\n",
       "      <th>0</th>\n",
       "      <td>17.99</td>\n",
       "      <td>10.38</td>\n",
       "      <td>122.80</td>\n",
       "      <td>1001.0</td>\n",
       "      <td>0.11840</td>\n",
       "      <td>0.27760</td>\n",
       "      <td>0.3001</td>\n",
       "      <td>0.14710</td>\n",
       "      <td>0.2419</td>\n",
       "      <td>0.07871</td>\n",
       "      <td>...</td>\n",
       "      <td>25.38</td>\n",
       "      <td>17.33</td>\n",
       "      <td>184.60</td>\n",
       "      <td>2019.0</td>\n",
       "      <td>0.1622</td>\n",
       "      <td>0.6656</td>\n",
       "      <td>0.7119</td>\n",
       "      <td>0.2654</td>\n",
       "      <td>0.4601</td>\n",
       "      <td>0.11890</td>\n",
       "    </tr>\n",
       "    <tr>\n",
       "      <th>1</th>\n",
       "      <td>20.57</td>\n",
       "      <td>17.77</td>\n",
       "      <td>132.90</td>\n",
       "      <td>1326.0</td>\n",
       "      <td>0.08474</td>\n",
       "      <td>0.07864</td>\n",
       "      <td>0.0869</td>\n",
       "      <td>0.07017</td>\n",
       "      <td>0.1812</td>\n",
       "      <td>0.05667</td>\n",
       "      <td>...</td>\n",
       "      <td>24.99</td>\n",
       "      <td>23.41</td>\n",
       "      <td>158.80</td>\n",
       "      <td>1956.0</td>\n",
       "      <td>0.1238</td>\n",
       "      <td>0.1866</td>\n",
       "      <td>0.2416</td>\n",
       "      <td>0.1860</td>\n",
       "      <td>0.2750</td>\n",
       "      <td>0.08902</td>\n",
       "    </tr>\n",
       "    <tr>\n",
       "      <th>2</th>\n",
       "      <td>19.69</td>\n",
       "      <td>21.25</td>\n",
       "      <td>130.00</td>\n",
       "      <td>1203.0</td>\n",
       "      <td>0.10960</td>\n",
       "      <td>0.15990</td>\n",
       "      <td>0.1974</td>\n",
       "      <td>0.12790</td>\n",
       "      <td>0.2069</td>\n",
       "      <td>0.05999</td>\n",
       "      <td>...</td>\n",
       "      <td>23.57</td>\n",
       "      <td>25.53</td>\n",
       "      <td>152.50</td>\n",
       "      <td>1709.0</td>\n",
       "      <td>0.1444</td>\n",
       "      <td>0.4245</td>\n",
       "      <td>0.4504</td>\n",
       "      <td>0.2430</td>\n",
       "      <td>0.3613</td>\n",
       "      <td>0.08758</td>\n",
       "    </tr>\n",
       "    <tr>\n",
       "      <th>3</th>\n",
       "      <td>11.42</td>\n",
       "      <td>20.38</td>\n",
       "      <td>77.58</td>\n",
       "      <td>386.1</td>\n",
       "      <td>0.14250</td>\n",
       "      <td>0.28390</td>\n",
       "      <td>0.2414</td>\n",
       "      <td>0.10520</td>\n",
       "      <td>0.2597</td>\n",
       "      <td>0.09744</td>\n",
       "      <td>...</td>\n",
       "      <td>14.91</td>\n",
       "      <td>26.50</td>\n",
       "      <td>98.87</td>\n",
       "      <td>567.7</td>\n",
       "      <td>0.2098</td>\n",
       "      <td>0.8663</td>\n",
       "      <td>0.6869</td>\n",
       "      <td>0.2575</td>\n",
       "      <td>0.6638</td>\n",
       "      <td>0.17300</td>\n",
       "    </tr>\n",
       "    <tr>\n",
       "      <th>4</th>\n",
       "      <td>20.29</td>\n",
       "      <td>14.34</td>\n",
       "      <td>135.10</td>\n",
       "      <td>1297.0</td>\n",
       "      <td>0.10030</td>\n",
       "      <td>0.13280</td>\n",
       "      <td>0.1980</td>\n",
       "      <td>0.10430</td>\n",
       "      <td>0.1809</td>\n",
       "      <td>0.05883</td>\n",
       "      <td>...</td>\n",
       "      <td>22.54</td>\n",
       "      <td>16.67</td>\n",
       "      <td>152.20</td>\n",
       "      <td>1575.0</td>\n",
       "      <td>0.1374</td>\n",
       "      <td>0.2050</td>\n",
       "      <td>0.4000</td>\n",
       "      <td>0.1625</td>\n",
       "      <td>0.2364</td>\n",
       "      <td>0.07678</td>\n",
       "    </tr>\n",
       "  </tbody>\n",
       "</table>\n",
       "<p>5 rows × 30 columns</p>\n",
       "</div>"
      ],
      "text/plain": [
       "   mean radius  mean texture  mean perimeter  mean area  mean smoothness  \\\n",
       "0        17.99         10.38          122.80     1001.0          0.11840   \n",
       "1        20.57         17.77          132.90     1326.0          0.08474   \n",
       "2        19.69         21.25          130.00     1203.0          0.10960   \n",
       "3        11.42         20.38           77.58      386.1          0.14250   \n",
       "4        20.29         14.34          135.10     1297.0          0.10030   \n",
       "\n",
       "   mean compactness  mean concavity  mean concave points  mean symmetry  \\\n",
       "0           0.27760          0.3001              0.14710         0.2419   \n",
       "1           0.07864          0.0869              0.07017         0.1812   \n",
       "2           0.15990          0.1974              0.12790         0.2069   \n",
       "3           0.28390          0.2414              0.10520         0.2597   \n",
       "4           0.13280          0.1980              0.10430         0.1809   \n",
       "\n",
       "   mean fractal dimension  ...  worst radius  worst texture  worst perimeter  \\\n",
       "0                 0.07871  ...         25.38          17.33           184.60   \n",
       "1                 0.05667  ...         24.99          23.41           158.80   \n",
       "2                 0.05999  ...         23.57          25.53           152.50   \n",
       "3                 0.09744  ...         14.91          26.50            98.87   \n",
       "4                 0.05883  ...         22.54          16.67           152.20   \n",
       "\n",
       "   worst area  worst smoothness  worst compactness  worst concavity  \\\n",
       "0      2019.0            0.1622             0.6656           0.7119   \n",
       "1      1956.0            0.1238             0.1866           0.2416   \n",
       "2      1709.0            0.1444             0.4245           0.4504   \n",
       "3       567.7            0.2098             0.8663           0.6869   \n",
       "4      1575.0            0.1374             0.2050           0.4000   \n",
       "\n",
       "   worst concave points  worst symmetry  worst fractal dimension  \n",
       "0                0.2654          0.4601                  0.11890  \n",
       "1                0.1860          0.2750                  0.08902  \n",
       "2                0.2430          0.3613                  0.08758  \n",
       "3                0.2575          0.6638                  0.17300  \n",
       "4                0.1625          0.2364                  0.07678  \n",
       "\n",
       "[5 rows x 30 columns]"
      ]
     },
     "execution_count": 7,
     "metadata": {},
     "output_type": "execute_result"
    }
   ],
   "source": [
    "from sklearn.datasets import load_breast_cancer\n",
    "data = load_breast_cancer()\n",
    "\n",
    "data_df = pd.DataFrame(data = data.data,\n",
    "                       columns = data.feature_names)\n",
    "data_df.head()"
   ]
  },
  {
   "cell_type": "code",
   "execution_count": 8,
   "metadata": {},
   "outputs": [
    {
     "name": "stdout",
     "output_type": "stream",
     "text": [
      "Summary of the Neural Network\n",
      "___________________________________________________________________________________________________________________\n",
      "Layer (type)        Neurons #      Input Shape    Output Shape   Weights shape  Bias shape        Param #\n",
      "===================================================================================================================\n",
      "Input               30             -              (30, None)     -              -                       0\n",
      "\n",
      "DenseLayer          64             (30, None)     (64, None)     (64, 30)       (64, 1)              1984\n",
      "\n",
      "DenseLayer          128            (64, None)     (128, None)    (128, 64)      (128, 1)             8320\n",
      "\n",
      "DropoutLayer        -              droupout rate: 0.2            -              -                       0\n",
      "\n",
      "DenseLayer          32             (128, None)    (32, None)     (32, 128)      (32, 1)              4128\n",
      "\n",
      "DenseLayer          1              (32, None)     (1, None)      (1, 32)        (1, 1)                 33\n",
      "\n",
      "===================================================================================================================\n",
      "Total params                                                                                        14465\n"
     ]
    }
   ],
   "source": [
    "breast_net = NeuralNetwork()\n",
    "\n",
    "breast_net.add(DenseLayer(30, 64, activation=\"tanh\"))\n",
    "# breast_net.add(ActivationLayer(Tanh))\n",
    "\n",
    "breast_net.add(DenseLayer(64, 128, activation=\"tanh\"))\n",
    "# breast_net.add(ActivationLayer(Tanh))\n",
    "\n",
    "breast_net.add(DropoutLayer(0.2))\n",
    "\n",
    "breast_net.add(DenseLayer(128, 32, activation=\"tanh\"))                    # input_shape=(1, 10)       ;   output_shape=(1, 10)\n",
    "# breast_net.add(ActivationLayer(Tanh))\n",
    "\n",
    "breast_net.add(DenseLayer(32, 1, activation=\"sigmoid\"))                    # input_shape=(1, 10)       ;   output_shape=(1, 10)\n",
    "# breast_net.add(ActivationLayer(Sigmoid))\n",
    "\n",
    "breast_net.use_loss(BinaryCrossentropy())\n",
    "\n",
    "breast_net.summary()"
   ]
  },
  {
   "cell_type": "code",
   "execution_count": 9,
   "metadata": {},
   "outputs": [
    {
     "name": "stdout",
     "output_type": "stream",
     "text": [
      "Epoch 1-100 ======================> cost: 0.7005\n",
      "Epoch 11-100 ======================> cost: 0.5004\n",
      "Epoch 21-100 ======================> cost: 0.4697\n",
      "Epoch 31-100 ======================> cost: 0.4416\n",
      "Epoch 41-100 ======================> cost: 0.4040\n",
      "Epoch 51-100 ======================> cost: 0.3867\n",
      "Epoch 61-100 ======================> cost: 0.3665\n",
      "Epoch 71-100 ======================> cost: 0.3733\n",
      "Epoch 81-100 ======================> cost: 0.3419\n",
      "Epoch 91-100 ======================> cost: 0.3440\n"
     ]
    }
   ],
   "source": [
    "# y_breast = np.array(pd.get_dummies(data.target))\n",
    "y_breast = data.target\n",
    "breast_net.fit(x_train=data.data,y_train= y_breast, epochs=100, learning_rate=0.001, verbose=1)"
   ]
  },
  {
   "cell_type": "code",
   "execution_count": 10,
   "metadata": {},
   "outputs": [
    {
     "name": "stdout",
     "output_type": "stream",
     "text": [
      "Accuracy:  0.8963093145869947\n",
      "Precision:  0.8880208333333334\n",
      "Recall:  0.9551820728291317\n"
     ]
    }
   ],
   "source": [
    "pred_breast = breast_net.predict(data.data)\n",
    "\n",
    "pred_breast = np.round(pred_breast).reshape(-1)\n",
    "\n",
    "print(\"Accuracy: \", Metrics.accuracy(y_breast, pred_breast))\n",
    "print(\"Precision: \", Metrics.precision(y_breast, pred_breast, average=\"binary\"))\n",
    "print(\"Recall: \", Metrics.recall(y_breast, pred_breast, average=\"binary\"))"
   ]
  },
  {
   "cell_type": "code",
   "execution_count": 11,
   "metadata": {},
   "outputs": [
    {
     "name": "stdout",
     "output_type": "stream",
     "text": [
      "Accuracy: 0.8963093145869947\n",
      "Precision: 0.8880208333333334\n",
      "Recall: 0.9551820728291317\n"
     ]
    }
   ],
   "source": [
    "# calculate accuracy measures and confusion matrix\n",
    "from sklearn import metrics\n",
    "\n",
    "print(f\"Accuracy: {metrics.accuracy_score(y_breast, pred_breast)}\")\n",
    "print(f\"Precision: {metrics.precision_score(y_breast, pred_breast)}\")\n",
    "print(f\"Recall: {metrics.recall_score(y_breast, pred_breast)}\")\n"
   ]
  },
  {
   "attachments": {},
   "cell_type": "markdown",
   "metadata": {},
   "source": [
    "## Moon"
   ]
  },
  {
   "cell_type": "code",
   "execution_count": 12,
   "metadata": {},
   "outputs": [
    {
     "name": "stdout",
     "output_type": "stream",
     "text": [
      "Summary of the Neural Network\n",
      "___________________________________________________________________________________________________________________\n",
      "Layer (type)        Neurons #      Input Shape    Output Shape   Weights shape  Bias shape        Param #\n",
      "===================================================================================================================\n",
      "Input               2              -              (2, None)      -              -                       0\n",
      "\n",
      "DenseLayer          16             (2, None)      (16, None)     (16, 2)        (16, 1)                48\n",
      "\n",
      "DenseLayer          8              (16, None)     (8, None)      (8, 16)        (8, 1)                136\n",
      "\n",
      "DropoutLayer        -              droupout rate: 0.5            -              -                       0\n",
      "\n",
      "DenseLayer          1              (8, None)      (1, None)      (1, 8)         (1, 1)                  9\n",
      "\n",
      "===================================================================================================================\n",
      "Total params                                                                                          193\n"
     ]
    }
   ],
   "source": [
    "import sklearn\n",
    "import sklearn.datasets\n",
    "X, y = sklearn.datasets.make_moons(500, noise=0.30)\n",
    "\n",
    "moon_net = NeuralNetwork()\n",
    "\n",
    "moon_net.add(DenseLayer(2, 16, activation=\"tanh\"))\n",
    "\n",
    "moon_net.add(DenseLayer(16, 8, activation=\"tanh\"))\n",
    "\n",
    "moon_net.add(DropoutLayer(0.5))\n",
    "\n",
    "moon_net.add(DenseLayer(8, 1, activation=\"sigmoid\"))                    # input_shape=(1, 10)       ;   output_shape=(1, 10)\n",
    "\n",
    "moon_net.use_loss(BinaryCrossentropy())\n",
    "\n",
    "moon_net.summary()"
   ]
  },
  {
   "cell_type": "code",
   "execution_count": 13,
   "metadata": {},
   "outputs": [
    {
     "name": "stdout",
     "output_type": "stream",
     "text": [
      "Epoch 1-1000 ======================> cost: 1.0720\n",
      "Epoch 11-1000 ======================> cost: 0.7966\n",
      "Epoch 21-1000 ======================> cost: 0.6652\n",
      "Epoch 31-1000 ======================> cost: 0.5998\n",
      "Epoch 41-1000 ======================> cost: 0.5587\n",
      "Epoch 51-1000 ======================> cost: 0.5290\n",
      "Epoch 61-1000 ======================> cost: 0.5057\n",
      "Epoch 71-1000 ======================> cost: 0.4875\n",
      "Epoch 81-1000 ======================> cost: 0.4734\n",
      "Epoch 91-1000 ======================> cost: 0.4609\n",
      "Epoch 101-1000 ======================> cost: 0.4510\n",
      "Epoch 111-1000 ======================> cost: 0.4425\n",
      "Epoch 121-1000 ======================> cost: 0.4352\n",
      "Epoch 131-1000 ======================> cost: 0.4288\n",
      "Epoch 141-1000 ======================> cost: 0.4231\n",
      "Epoch 151-1000 ======================> cost: 0.4183\n",
      "Epoch 161-1000 ======================> cost: 0.4138\n",
      "Epoch 171-1000 ======================> cost: 0.4097\n",
      "Epoch 181-1000 ======================> cost: 0.4062\n",
      "Epoch 191-1000 ======================> cost: 0.4026\n",
      "Epoch 201-1000 ======================> cost: 0.3991\n",
      "Epoch 211-1000 ======================> cost: 0.3960\n",
      "Epoch 221-1000 ======================> cost: 0.3932\n",
      "Epoch 231-1000 ======================> cost: 0.3906\n",
      "Epoch 241-1000 ======================> cost: 0.3880\n",
      "Epoch 251-1000 ======================> cost: 0.3856\n",
      "Epoch 261-1000 ======================> cost: 0.3832\n",
      "Epoch 271-1000 ======================> cost: 0.3809\n",
      "Epoch 281-1000 ======================> cost: 0.3789\n",
      "Epoch 291-1000 ======================> cost: 0.3769\n",
      "Epoch 301-1000 ======================> cost: 0.3750\n",
      "Epoch 311-1000 ======================> cost: 0.3733\n",
      "Epoch 321-1000 ======================> cost: 0.3715\n",
      "Epoch 331-1000 ======================> cost: 0.3700\n",
      "Epoch 341-1000 ======================> cost: 0.3686\n",
      "Epoch 351-1000 ======================> cost: 0.3673\n",
      "Epoch 361-1000 ======================> cost: 0.3660\n",
      "Epoch 371-1000 ======================> cost: 0.3647\n",
      "Epoch 381-1000 ======================> cost: 0.3637\n",
      "Epoch 391-1000 ======================> cost: 0.3627\n",
      "Epoch 401-1000 ======================> cost: 0.3615\n",
      "Epoch 411-1000 ======================> cost: 0.3603\n",
      "Epoch 421-1000 ======================> cost: 0.3594\n",
      "Epoch 431-1000 ======================> cost: 0.3586\n",
      "Epoch 441-1000 ======================> cost: 0.3577\n",
      "Epoch 451-1000 ======================> cost: 0.3570\n",
      "Epoch 461-1000 ======================> cost: 0.3563\n",
      "Epoch 471-1000 ======================> cost: 0.3557\n",
      "Epoch 481-1000 ======================> cost: 0.3550\n",
      "Epoch 491-1000 ======================> cost: 0.3544\n",
      "Epoch 501-1000 ======================> cost: 0.3538\n",
      "Epoch 511-1000 ======================> cost: 0.3535\n",
      "Epoch 521-1000 ======================> cost: 0.3532\n",
      "Epoch 531-1000 ======================> cost: 0.3526\n",
      "Epoch 541-1000 ======================> cost: 0.3520\n",
      "Epoch 551-1000 ======================> cost: 0.3515\n",
      "Epoch 561-1000 ======================> cost: 0.3511\n",
      "Epoch 571-1000 ======================> cost: 0.3508\n",
      "Epoch 581-1000 ======================> cost: 0.3504\n",
      "Epoch 591-1000 ======================> cost: 0.3500\n",
      "Epoch 601-1000 ======================> cost: 0.3497\n",
      "Epoch 611-1000 ======================> cost: 0.3494\n",
      "Epoch 621-1000 ======================> cost: 0.3491\n",
      "Epoch 631-1000 ======================> cost: 0.3487\n",
      "Epoch 641-1000 ======================> cost: 0.3484\n",
      "Epoch 651-1000 ======================> cost: 0.3481\n",
      "Epoch 661-1000 ======================> cost: 0.3478\n",
      "Epoch 671-1000 ======================> cost: 0.3476\n",
      "Epoch 681-1000 ======================> cost: 0.3473\n",
      "Epoch 691-1000 ======================> cost: 0.3471\n",
      "Epoch 701-1000 ======================> cost: 0.3469\n",
      "Epoch 711-1000 ======================> cost: 0.3467\n",
      "Epoch 721-1000 ======================> cost: 0.3466\n",
      "Epoch 731-1000 ======================> cost: 0.3465\n",
      "Epoch 741-1000 ======================> cost: 0.3463\n",
      "Epoch 751-1000 ======================> cost: 0.3462\n",
      "Epoch 761-1000 ======================> cost: 0.3461\n",
      "Epoch 771-1000 ======================> cost: 0.3459\n",
      "Epoch 781-1000 ======================> cost: 0.3457\n",
      "Epoch 791-1000 ======================> cost: 0.3457\n",
      "Epoch 801-1000 ======================> cost: 0.3454\n",
      "Epoch 811-1000 ======================> cost: 0.3454\n",
      "Epoch 821-1000 ======================> cost: 0.3453\n",
      "Epoch 831-1000 ======================> cost: 0.3451\n",
      "Epoch 841-1000 ======================> cost: 0.3450\n",
      "Epoch 851-1000 ======================> cost: 0.3449\n",
      "Epoch 861-1000 ======================> cost: 0.3448\n",
      "Epoch 871-1000 ======================> cost: 0.3447\n",
      "Epoch 881-1000 ======================> cost: 0.3446\n",
      "Epoch 891-1000 ======================> cost: 0.3446\n",
      "Epoch 901-1000 ======================> cost: 0.3445\n",
      "Epoch 911-1000 ======================> cost: 0.3443\n",
      "Epoch 921-1000 ======================> cost: 0.3443\n",
      "Epoch 931-1000 ======================> cost: 0.3441\n",
      "Epoch 941-1000 ======================> cost: 0.3442\n",
      "Epoch 951-1000 ======================> cost: 0.3439\n",
      "Epoch 961-1000 ======================> cost: 0.3438\n",
      "Epoch 971-1000 ======================> cost: 0.3438\n",
      "Epoch 981-1000 ======================> cost: 0.3437\n",
      "Epoch 991-1000 ======================> cost: 0.3436\n"
     ]
    }
   ],
   "source": [
    "moon_net.fit(X, y, epochs=1000, learning_rate=0.01, verbose=1, batch_size=128)"
   ]
  },
  {
   "cell_type": "code",
   "execution_count": 14,
   "metadata": {},
   "outputs": [
    {
     "name": "stdout",
     "output_type": "stream",
     "text": [
      "Accuracy:  0.86\n",
      "Precision:  0.8658536585365854\n",
      "Recall:  0.852\n",
      "R2:  0.43999999999999995\n"
     ]
    }
   ],
   "source": [
    "moon_pred = moon_net.predict(X)\n",
    "\n",
    "# as this is also a binary classification, we need to reshape the output to 1D array\n",
    "moon_pred = np.round(moon_pred).reshape(-1)\n",
    "\n",
    "print(\"Accuracy: \", Metrics.accuracy(y, moon_pred))\n",
    "print(\"Precision: \", Metrics.precision(y, moon_pred, average=\"binary\"))\n",
    "print(\"Recall: \", Metrics.recall(y, moon_pred, average=\"binary\"))\n",
    "print(\"R2: \", Metrics.r2_score(y, moon_pred))"
   ]
  },
  {
   "cell_type": "code",
   "execution_count": 15,
   "metadata": {},
   "outputs": [
    {
     "name": "stdout",
     "output_type": "stream",
     "text": [
      "Accuracy:  0.86\n",
      "Precision:  0.8658536585365854\n",
      "Recall:  0.852\n",
      "R2:  0.43999999999999995\n"
     ]
    }
   ],
   "source": [
    "print(\"Accuracy: \", metrics.accuracy_score(y, moon_pred))\n",
    "print(\"Precision: \", metrics.precision_score(y, moon_pred))\n",
    "print(\"Recall: \", metrics.recall_score(y, moon_pred))\n",
    "print(\"R2: \", metrics.r2_score(y, moon_pred))"
   ]
  },
  {
   "attachments": {},
   "cell_type": "markdown",
   "metadata": {},
   "source": [
    "## MNIST Digit Recognition"
   ]
  },
  {
   "cell_type": "code",
   "execution_count": 16,
   "metadata": {},
   "outputs": [],
   "source": [
    "df = pd.read_csv('data/fashion-mnist_train.csv')\n",
    "y_train = df['label'].values\n",
    "x_train = df.drop('label', axis=1).values/255.\n",
    "\n",
    "test_df = pd.read_csv('data/fashion-mnist_test.csv')\n",
    "y_test = test_df['label'].values\n",
    "x_test = test_df.drop('label', axis=1).values/255."
   ]
  },
  {
   "cell_type": "code",
   "execution_count": 30,
   "metadata": {},
   "outputs": [],
   "source": [
    "precisions_ = []\n",
    "accuracies_ = []\n",
    "recalls_ = []\n",
    "f1s_ = []\n",
    "losses_ = []\n",
    "\n",
    "\n",
    "def callback(true, predicted, loss, epoch):\n",
    "    losses_.append(loss)\n",
    "    pred  = Metrics.predict_classes(predicted)\n",
    "    # print(pred.shape)\n",
    "    global precisions_\n",
    "    global accuracies_\n",
    "    global recalls_\n",
    "    global f1s_\n",
    "    precisions_.append(Metrics.precision(true, pred))\n",
    "    accuracies_.append(Metrics.accuracy(true, pred))\n",
    "    recalls_.append(Metrics.recall(true, pred))\n",
    "    f1s_.append(Metrics.f1_score(true, pred))"
   ]
  },
  {
   "cell_type": "code",
   "execution_count": 31,
   "metadata": {},
   "outputs": [
    {
     "name": "stdout",
     "output_type": "stream",
     "text": [
      "Summary of the Neural Network\n",
      "___________________________________________________________________________________________________________________\n",
      "Layer (type)        Neurons #      Input Shape    Output Shape   Weights shape  Bias shape        Param #\n",
      "===================================================================================================================\n",
      "Input               784            -              (784, None)    -              -                       0\n",
      "\n",
      "DenseLayer          20             (784, None)    (20, None)     (20, 784)      (20, 1)             15700\n",
      "\n",
      "DenseLayer          10             (20, None)     (10, None)     (10, 20)       (10, 1)               210\n",
      "\n",
      "DropoutLayer        -              droupout rate: 0.2            -              -                       0\n",
      "\n",
      "DenseLayer          8              (10, None)     (8, None)      (8, 10)        (8, 1)                 88\n",
      "\n",
      "BatchNormalization  -              epsilon:       1e-08          -              -                       -\n",
      "\n",
      "DenseLayer          10             (8, None)      (10, None)     (10, 8)        (10, 1)                90\n",
      "\n",
      "===================================================================================================================\n",
      "Total params                                                                                        16088\n"
     ]
    }
   ],
   "source": [
    "digits = NeuralNetwork()\n",
    "\n",
    "digits.add(DenseLayer(28*28, 20, activation=\"relu\"))              \n",
    "\n",
    "digits.add(DenseLayer(20, 10, activation=\"relu\"))                \n",
    "\n",
    "digits.add(DropoutLayer(dropout_rate=0.2))\n",
    "\n",
    "digits.add(DenseLayer(10, 8, activation=\"relu\"))\n",
    "\n",
    "digits.add(BatchNormalization(8))\n",
    "\n",
    "digits.add(DenseLayer(8, 10, activation=\"softmax\"))                   \n",
    "\n",
    "digits.use_loss(CategoricalCrossentropy())\n",
    "\n",
    "digits.summary()"
   ]
  },
  {
   "cell_type": "code",
   "execution_count": 32,
   "metadata": {},
   "outputs": [
    {
     "name": "stdout",
     "output_type": "stream",
     "text": [
      "Epoch 1-100 ======================> cost: 1.7957\n",
      "Epoch 11-100 ======================> cost: 0.8358\n",
      "Epoch 21-100 ======================> cost: 0.6573\n",
      "Epoch 31-100 ======================> cost: 0.5618\n",
      "Epoch 41-100 ======================> cost: 0.5153\n",
      "Epoch 51-100 ======================> cost: 0.4753\n",
      "Epoch 61-100 ======================> cost: 0.4504\n",
      "Epoch 71-100 ======================> cost: 0.4255\n",
      "Epoch 81-100 ======================> cost: 0.4186\n",
      "Epoch 91-100 ======================> cost: 0.4097\n"
     ]
    }
   ],
   "source": [
    "y_oh = np.array(pd.get_dummies(y_train))\n",
    "digits.fit(x_train, y_oh, epochs=100, learning_rate=0.01,  batch_size=128, verbose=1, callback=callback)"
   ]
  },
  {
   "cell_type": "code",
   "execution_count": 33,
   "metadata": {},
   "outputs": [
    {
     "data": {
      "image/png": "[encoded data removed]",
      "text/plain": [
       "<Figure size 2500x500 with 4 Axes>"
      ]
     },
     "metadata": {},
     "output_type": "display_data"
    }
   ],
   "source": [
    "def plot_metrics(metrics, titles):\n",
    "    # plot all the metrics in one plot\n",
    "\n",
    "    fig, ax = plt.subplots(1, len(metrics), figsize=(25, 5))\n",
    "    if len(metrics) == 1:\n",
    "        ax = [ax]\n",
    "\n",
    "    for i, metric in enumerate(metrics):\n",
    "        ax[i].plot(metric)\n",
    "        ax[i].set_title(titles[i])\n",
    "        ax[i].set_xlabel(\"Epochs\")\n",
    "        ax[i].set_ylabel(titles[i])\n",
    "    plt.show()\n",
    "\n",
    "plot_metrics([precisions_, accuracies_, recalls_, f1s_], [\"Precision\", \"Accuracy\", \"Recall\", \"F1\"])"
   ]
  },
  {
   "cell_type": "code",
   "execution_count": 34,
   "metadata": {},
   "outputs": [
    {
     "data": {
      "image/png": "[encoded data removed]",
      "text/plain": [
       "<Figure size 2500x500 with 1 Axes>"
      ]
     },
     "metadata": {},
     "output_type": "display_data"
    }
   ],
   "source": [
    "plot_metrics([losses_], [\"Caterogical Cross-Entropy\"])"
   ]
  },
  {
   "cell_type": "code",
   "execution_count": 35,
   "metadata": {},
   "outputs": [
    {
     "data": {
      "text/plain": [
       "0.8738"
      ]
     },
     "execution_count": 35,
     "metadata": {},
     "output_type": "execute_result"
    }
   ],
   "source": [
    "prob_train = digits.predict(x_train)\n",
    "\n",
    "# as this is not a binary classification, we need to use predict_classes and then accuracy\n",
    "train_pred = Metrics.predict_classes(prob_train)\n",
    "Metrics.accuracy(y_train, train_pred)"
   ]
  },
  {
   "cell_type": "code",
   "execution_count": 36,
   "metadata": {},
   "outputs": [
    {
     "name": "stdout",
     "output_type": "stream",
     "text": [
      "Test Accuracy:  0.7666666666666667\n"
     ]
    }
   ],
   "source": [
    "prob_test = digits.predict(x_test)\n",
    "test_pred = Metrics.predict_classes(prob_test)\n",
    "print(\"Test Accuracy: \", Metrics.accuracy(y_test, test_pred))"
   ]
  },
  {
   "cell_type": "code",
   "execution_count": 37,
   "metadata": {},
   "outputs": [
    {
     "name": "stdout",
     "output_type": "stream",
     "text": [
      "Training Precision: 0.8745\n",
      "Testing Precision:  0.7333\n"
     ]
    }
   ],
   "source": [
    "train_prec = Metrics.precision(y_train, train_pred, average=\"macro\")\n",
    "test_prec = Metrics.precision(y_test, test_pred, average=\"macro\")\n",
    "\n",
    "print(f\"Training Precision: {train_prec:.4f}\\nTesting Precision:  {test_prec:.4f}\")"
   ]
  },
  {
   "cell_type": "code",
   "execution_count": 38,
   "metadata": {},
   "outputs": [
    {
     "data": {
      "text/plain": [
       "0.7956121212121212"
      ]
     },
     "execution_count": 38,
     "metadata": {},
     "output_type": "execute_result"
    }
   ],
   "source": [
    "Metrics.r2_score(y_train, train_pred)"
   ]
  },
  {
   "cell_type": "code",
   "execution_count": 39,
   "metadata": {},
   "outputs": [
    {
     "data": {
      "text/plain": [
       "array([[757,   0,  23,  82,   0,   1, 132,   0,   5,   0],\n",
       "       [  0, 976,   0,  15,   2,   0,   5,   0,   2,   0],\n",
       "       [  4,   0, 836,   6, 108,   0,  43,   0,   2,   1],\n",
       "       [ 13,   7,   3, 939,  14,   0,  23,   0,   0,   1],\n",
       "       [  1,   1, 100,  26, 839,   0,  33,   0,   0,   0],\n",
       "       [  0,   0,   0,   0,   0, 963,   0,  23,   1,  13],\n",
       "       [ 96,   1, 152,  57,  78,   0, 612,   0,   2,   2],\n",
       "       [  0,   0,   0,   0,   0,  42,   0, 922,   0,  36],\n",
       "       [  0,   0,   9,   1,   8,  17,   6,   0, 935,  24],\n",
       "       [  0,   0,   0,   0,   0,  13,   0,  28,   0, 959]])"
      ]
     },
     "execution_count": 39,
     "metadata": {},
     "output_type": "execute_result"
    }
   ],
   "source": [
    "metrics.confusion_matrix(y_train, train_pred)"
   ]
  },
  {
   "cell_type": "code",
   "execution_count": 40,
   "metadata": {},
   "outputs": [
    {
     "data": {
      "text/html": [
       "<div>\n",
       "<style scoped>\n",
       "    .dataframe tbody tr th:only-of-type {\n",
       "        vertical-align: middle;\n",
       "    }\n",
       "\n",
       "    .dataframe tbody tr th {\n",
       "        vertical-align: top;\n",
       "    }\n",
       "\n",
       "    .dataframe thead th {\n",
       "        text-align: right;\n",
       "    }\n",
       "</style>\n",
       "<table border=\"1\" class=\"dataframe\">\n",
       "  <thead>\n",
       "    <tr style=\"text-align: right;\">\n",
       "      <th>Predicted</th>\n",
       "      <th>0</th>\n",
       "      <th>1</th>\n",
       "      <th>2</th>\n",
       "      <th>3</th>\n",
       "      <th>4</th>\n",
       "      <th>5</th>\n",
       "      <th>6</th>\n",
       "      <th>7</th>\n",
       "      <th>8</th>\n",
       "      <th>9</th>\n",
       "    </tr>\n",
       "    <tr>\n",
       "      <th>Actual</th>\n",
       "      <th></th>\n",
       "      <th></th>\n",
       "      <th></th>\n",
       "      <th></th>\n",
       "      <th></th>\n",
       "      <th></th>\n",
       "      <th></th>\n",
       "      <th></th>\n",
       "      <th></th>\n",
       "      <th></th>\n",
       "    </tr>\n",
       "  </thead>\n",
       "  <tbody>\n",
       "    <tr>\n",
       "      <th>0</th>\n",
       "      <td>757</td>\n",
       "      <td>0</td>\n",
       "      <td>23</td>\n",
       "      <td>82</td>\n",
       "      <td>0</td>\n",
       "      <td>1</td>\n",
       "      <td>132</td>\n",
       "      <td>0</td>\n",
       "      <td>5</td>\n",
       "      <td>0</td>\n",
       "    </tr>\n",
       "    <tr>\n",
       "      <th>1</th>\n",
       "      <td>0</td>\n",
       "      <td>976</td>\n",
       "      <td>0</td>\n",
       "      <td>15</td>\n",
       "      <td>2</td>\n",
       "      <td>0</td>\n",
       "      <td>5</td>\n",
       "      <td>0</td>\n",
       "      <td>2</td>\n",
       "      <td>0</td>\n",
       "    </tr>\n",
       "    <tr>\n",
       "      <th>2</th>\n",
       "      <td>4</td>\n",
       "      <td>0</td>\n",
       "      <td>836</td>\n",
       "      <td>6</td>\n",
       "      <td>108</td>\n",
       "      <td>0</td>\n",
       "      <td>43</td>\n",
       "      <td>0</td>\n",
       "      <td>2</td>\n",
       "      <td>1</td>\n",
       "    </tr>\n",
       "    <tr>\n",
       "      <th>3</th>\n",
       "      <td>13</td>\n",
       "      <td>7</td>\n",
       "      <td>3</td>\n",
       "      <td>939</td>\n",
       "      <td>14</td>\n",
       "      <td>0</td>\n",
       "      <td>23</td>\n",
       "      <td>0</td>\n",
       "      <td>0</td>\n",
       "      <td>1</td>\n",
       "    </tr>\n",
       "    <tr>\n",
       "      <th>4</th>\n",
       "      <td>1</td>\n",
       "      <td>1</td>\n",
       "      <td>100</td>\n",
       "      <td>26</td>\n",
       "      <td>839</td>\n",
       "      <td>0</td>\n",
       "      <td>33</td>\n",
       "      <td>0</td>\n",
       "      <td>0</td>\n",
       "      <td>0</td>\n",
       "    </tr>\n",
       "    <tr>\n",
       "      <th>5</th>\n",
       "      <td>0</td>\n",
       "      <td>0</td>\n",
       "      <td>0</td>\n",
       "      <td>0</td>\n",
       "      <td>0</td>\n",
       "      <td>963</td>\n",
       "      <td>0</td>\n",
       "      <td>23</td>\n",
       "      <td>1</td>\n",
       "      <td>13</td>\n",
       "    </tr>\n",
       "    <tr>\n",
       "      <th>6</th>\n",
       "      <td>96</td>\n",
       "      <td>1</td>\n",
       "      <td>152</td>\n",
       "      <td>57</td>\n",
       "      <td>78</td>\n",
       "      <td>0</td>\n",
       "      <td>612</td>\n",
       "      <td>0</td>\n",
       "      <td>2</td>\n",
       "      <td>2</td>\n",
       "    </tr>\n",
       "    <tr>\n",
       "      <th>7</th>\n",
       "      <td>0</td>\n",
       "      <td>0</td>\n",
       "      <td>0</td>\n",
       "      <td>0</td>\n",
       "      <td>0</td>\n",
       "      <td>42</td>\n",
       "      <td>0</td>\n",
       "      <td>922</td>\n",
       "      <td>0</td>\n",
       "      <td>36</td>\n",
       "    </tr>\n",
       "    <tr>\n",
       "      <th>8</th>\n",
       "      <td>0</td>\n",
       "      <td>0</td>\n",
       "      <td>9</td>\n",
       "      <td>1</td>\n",
       "      <td>8</td>\n",
       "      <td>17</td>\n",
       "      <td>6</td>\n",
       "      <td>0</td>\n",
       "      <td>935</td>\n",
       "      <td>24</td>\n",
       "    </tr>\n",
       "    <tr>\n",
       "      <th>9</th>\n",
       "      <td>0</td>\n",
       "      <td>0</td>\n",
       "      <td>0</td>\n",
       "      <td>0</td>\n",
       "      <td>0</td>\n",
       "      <td>13</td>\n",
       "      <td>0</td>\n",
       "      <td>28</td>\n",
       "      <td>0</td>\n",
       "      <td>959</td>\n",
       "    </tr>\n",
       "  </tbody>\n",
       "</table>\n",
       "</div>"
      ],
      "text/plain": [
       "Predicted    0    1    2    3    4    5    6    7    8    9\n",
       "Actual                                                     \n",
       "0          757    0   23   82    0    1  132    0    5    0\n",
       "1            0  976    0   15    2    0    5    0    2    0\n",
       "2            4    0  836    6  108    0   43    0    2    1\n",
       "3           13    7    3  939   14    0   23    0    0    1\n",
       "4            1    1  100   26  839    0   33    0    0    0\n",
       "5            0    0    0    0    0  963    0   23    1   13\n",
       "6           96    1  152   57   78    0  612    0    2    2\n",
       "7            0    0    0    0    0   42    0  922    0   36\n",
       "8            0    0    9    1    8   17    6    0  935   24\n",
       "9            0    0    0    0    0   13    0   28    0  959"
      ]
     },
     "execution_count": 40,
     "metadata": {},
     "output_type": "execute_result"
    }
   ],
   "source": [
    "Metrics.confusion_matrix(y_train, train_pred)"
   ]
  },
  {
   "cell_type": "code",
   "execution_count": 41,
   "metadata": {},
   "outputs": [
    {
     "data": {
      "text/plain": [
       "array([[4, 0, 0, 0, 0, 0, 0, 0, 0, 0],\n",
       "       [0, 1, 0, 0, 0, 0, 0, 0, 0, 0],\n",
       "       [0, 0, 1, 0, 0, 0, 2, 0, 0, 0],\n",
       "       [0, 1, 0, 3, 0, 0, 0, 0, 0, 0],\n",
       "       [0, 0, 1, 0, 6, 0, 0, 0, 0, 0],\n",
       "       [0, 0, 0, 0, 0, 1, 0, 0, 0, 0],\n",
       "       [0, 0, 0, 0, 0, 0, 1, 0, 0, 0],\n",
       "       [0, 0, 0, 0, 0, 0, 0, 2, 0, 0],\n",
       "       [0, 0, 0, 0, 0, 2, 0, 0, 2, 0],\n",
       "       [0, 0, 0, 0, 0, 0, 0, 1, 0, 2]])"
      ]
     },
     "execution_count": 41,
     "metadata": {},
     "output_type": "execute_result"
    }
   ],
   "source": [
    "metrics.confusion_matrix(y_test, test_pred)"
   ]
  },
  {
   "cell_type": "code",
   "execution_count": 42,
   "metadata": {},
   "outputs": [
    {
     "data": {
      "text/html": [
       "<div>\n",
       "<style scoped>\n",
       "    .dataframe tbody tr th:only-of-type {\n",
       "        vertical-align: middle;\n",
       "    }\n",
       "\n",
       "    .dataframe tbody tr th {\n",
       "        vertical-align: top;\n",
       "    }\n",
       "\n",
       "    .dataframe thead th {\n",
       "        text-align: right;\n",
       "    }\n",
       "</style>\n",
       "<table border=\"1\" class=\"dataframe\">\n",
       "  <thead>\n",
       "    <tr style=\"text-align: right;\">\n",
       "      <th>Predicted</th>\n",
       "      <th>0</th>\n",
       "      <th>1</th>\n",
       "      <th>2</th>\n",
       "      <th>3</th>\n",
       "      <th>4</th>\n",
       "      <th>5</th>\n",
       "      <th>6</th>\n",
       "      <th>7</th>\n",
       "      <th>8</th>\n",
       "      <th>9</th>\n",
       "    </tr>\n",
       "    <tr>\n",
       "      <th>Actual</th>\n",
       "      <th></th>\n",
       "      <th></th>\n",
       "      <th></th>\n",
       "      <th></th>\n",
       "      <th></th>\n",
       "      <th></th>\n",
       "      <th></th>\n",
       "      <th></th>\n",
       "      <th></th>\n",
       "      <th></th>\n",
       "    </tr>\n",
       "  </thead>\n",
       "  <tbody>\n",
       "    <tr>\n",
       "      <th>0</th>\n",
       "      <td>4</td>\n",
       "      <td>0</td>\n",
       "      <td>0</td>\n",
       "      <td>0</td>\n",
       "      <td>0</td>\n",
       "      <td>0</td>\n",
       "      <td>0</td>\n",
       "      <td>0</td>\n",
       "      <td>0</td>\n",
       "      <td>0</td>\n",
       "    </tr>\n",
       "    <tr>\n",
       "      <th>1</th>\n",
       "      <td>0</td>\n",
       "      <td>1</td>\n",
       "      <td>0</td>\n",
       "      <td>0</td>\n",
       "      <td>0</td>\n",
       "      <td>0</td>\n",
       "      <td>0</td>\n",
       "      <td>0</td>\n",
       "      <td>0</td>\n",
       "      <td>0</td>\n",
       "    </tr>\n",
       "    <tr>\n",
       "      <th>2</th>\n",
       "      <td>0</td>\n",
       "      <td>0</td>\n",
       "      <td>1</td>\n",
       "      <td>0</td>\n",
       "      <td>0</td>\n",
       "      <td>0</td>\n",
       "      <td>2</td>\n",
       "      <td>0</td>\n",
       "      <td>0</td>\n",
       "      <td>0</td>\n",
       "    </tr>\n",
       "    <tr>\n",
       "      <th>3</th>\n",
       "      <td>0</td>\n",
       "      <td>1</td>\n",
       "      <td>0</td>\n",
       "      <td>3</td>\n",
       "      <td>0</td>\n",
       "      <td>0</td>\n",
       "      <td>0</td>\n",
       "      <td>0</td>\n",
       "      <td>0</td>\n",
       "      <td>0</td>\n",
       "    </tr>\n",
       "    <tr>\n",
       "      <th>4</th>\n",
       "      <td>0</td>\n",
       "      <td>0</td>\n",
       "      <td>1</td>\n",
       "      <td>0</td>\n",
       "      <td>6</td>\n",
       "      <td>0</td>\n",
       "      <td>0</td>\n",
       "      <td>0</td>\n",
       "      <td>0</td>\n",
       "      <td>0</td>\n",
       "    </tr>\n",
       "    <tr>\n",
       "      <th>5</th>\n",
       "      <td>0</td>\n",
       "      <td>0</td>\n",
       "      <td>0</td>\n",
       "      <td>0</td>\n",
       "      <td>0</td>\n",
       "      <td>1</td>\n",
       "      <td>0</td>\n",
       "      <td>0</td>\n",
       "      <td>0</td>\n",
       "      <td>0</td>\n",
       "    </tr>\n",
       "    <tr>\n",
       "      <th>6</th>\n",
       "      <td>0</td>\n",
       "      <td>0</td>\n",
       "      <td>0</td>\n",
       "      <td>0</td>\n",
       "      <td>0</td>\n",
       "      <td>0</td>\n",
       "      <td>1</td>\n",
       "      <td>0</td>\n",
       "      <td>0</td>\n",
       "      <td>0</td>\n",
       "    </tr>\n",
       "    <tr>\n",
       "      <th>7</th>\n",
       "      <td>0</td>\n",
       "      <td>0</td>\n",
       "      <td>0</td>\n",
       "      <td>0</td>\n",
       "      <td>0</td>\n",
       "      <td>0</td>\n",
       "      <td>0</td>\n",
       "      <td>2</td>\n",
       "      <td>0</td>\n",
       "      <td>0</td>\n",
       "    </tr>\n",
       "    <tr>\n",
       "      <th>8</th>\n",
       "      <td>0</td>\n",
       "      <td>0</td>\n",
       "      <td>0</td>\n",
       "      <td>0</td>\n",
       "      <td>0</td>\n",
       "      <td>2</td>\n",
       "      <td>0</td>\n",
       "      <td>0</td>\n",
       "      <td>2</td>\n",
       "      <td>0</td>\n",
       "    </tr>\n",
       "    <tr>\n",
       "      <th>9</th>\n",
       "      <td>0</td>\n",
       "      <td>0</td>\n",
       "      <td>0</td>\n",
       "      <td>0</td>\n",
       "      <td>0</td>\n",
       "      <td>0</td>\n",
       "      <td>0</td>\n",
       "      <td>1</td>\n",
       "      <td>0</td>\n",
       "      <td>2</td>\n",
       "    </tr>\n",
       "  </tbody>\n",
       "</table>\n",
       "</div>"
      ],
      "text/plain": [
       "Predicted  0  1  2  3  4  5  6  7  8  9\n",
       "Actual                                 \n",
       "0          4  0  0  0  0  0  0  0  0  0\n",
       "1          0  1  0  0  0  0  0  0  0  0\n",
       "2          0  0  1  0  0  0  2  0  0  0\n",
       "3          0  1  0  3  0  0  0  0  0  0\n",
       "4          0  0  1  0  6  0  0  0  0  0\n",
       "5          0  0  0  0  0  1  0  0  0  0\n",
       "6          0  0  0  0  0  0  1  0  0  0\n",
       "7          0  0  0  0  0  0  0  2  0  0\n",
       "8          0  0  0  0  0  2  0  0  2  0\n",
       "9          0  0  0  0  0  0  0  1  0  2"
      ]
     },
     "execution_count": 42,
     "metadata": {},
     "output_type": "execute_result"
    }
   ],
   "source": [
    "Metrics.confusion_matrix(y_test, test_pred)"
   ]
  },
  {
   "attachments": {},
   "cell_type": "markdown",
   "metadata": {},
   "source": [
    "***"
   ]
  }
 ],
 "metadata": {
  "kernelspec": {
   "display_name": "my_env",
   "language": "python",
   "name": "python3"
  },
  "language_info": {
   "codemirror_mode": {
    "name": "ipython",
    "version": 3
   },
   "file_extension": ".py",
   "mimetype": "text/x-python",
   "name": "python",
   "nbconvert_exporter": "python",
   "pygments_lexer": "ipython3",
   "version": "3.10.6"
  },
  "orig_nbformat": 4,
  "vscode": {
   "interpreter": {
    "hash": "a4a1b8dfbfcf197657bbe13300384e076b1914ebd98f1200feef09f71d03b223"
   }
  }
 },
 "nbformat": 4,
 "nbformat_minor": 2
}
