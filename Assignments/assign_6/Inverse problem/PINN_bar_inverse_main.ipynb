{
  "cells": [
    {
      "cell_type": "markdown",
      "id": "MVaR4b9-iu3L",
      "metadata": {
        "id": "MVaR4b9-iu3L"
      },
      "source": [
        "This file is the main file where we define the problem data, initiate model and train the model"
      ]
    },
    {
      "cell_type": "markdown",
      "id": "24f6ebHvjSap",
      "metadata": {
        "id": "24f6ebHvjSap"
      },
      "source": [
        "1. First we import all the relevant classes and libraries"
      ]
    },
    {
      "cell_type": "code",
      "execution_count": 2,
      "id": "w_l4adLOjGyJ",
      "metadata": {
        "id": "w_l4adLOjGyJ"
      },
      "outputs": [],
      "source": [
        "from physicsinformed import InversePhysicsInformedBarModel # py file which has custom class defined\n",
        "import torch\n",
        "import math\n",
        "import matplotlib.pyplot as plt"
      ]
    },
    {
      "attachments": {},
      "cell_type": "markdown",
      "id": "46a508ee",
      "metadata": {},
      "source": [
        "Custom function needed to generate training and testing data"
      ]
    },
    {
      "cell_type": "code",
      "execution_count": 3,
      "id": "a49dd9bc",
      "metadata": {},
      "outputs": [],
      "source": [
        "def generate_grid_1d(length, samples=20, initial_coordinate=0.0):\n",
        "    \"\"\"Generate an evenly space grid of a given length and a given number of samples.\"\"\"\n",
        "\n",
        "    # Generate the grid\n",
        "    x = torch.linspace(initial_coordinate, initial_coordinate + length, samples, requires_grad=True)\n",
        "\n",
        "    # Reshape on a column tensor and return\n",
        "    return x.view(samples, 1)"
      ]
    },
    {
      "cell_type": "markdown",
      "id": "-RcvGRwGjdLu",
      "metadata": {
        "id": "-RcvGRwGjdLu"
      },
      "source": [
        "2. Analytical 'u' is given"
      ]
    },
    {
      "cell_type": "code",
      "execution_count": 4,
      "id": "4ppF7bu2jsvd",
      "metadata": {
        "id": "4ppF7bu2jsvd"
      },
      "outputs": [],
      "source": [
        "L = 1\n",
        "x = generate_grid_1d(L, 20)\n",
        "u_analytic = lambda x: torch.sin(2*math.pi*x)\n",
        "u = u_analytic(x)"
      ]
    },
    {
      "cell_type": "markdown",
      "id": "ZXJmEzduTVfz",
      "metadata": {
        "id": "ZXJmEzduTVfz"
      },
      "source": [
        "Analytical inverse solution for validation"
      ]
    },
    {
      "cell_type": "code",
      "execution_count": 5,
      "id": "mo9j4BAoTWUk",
      "metadata": {
        "id": "mo9j4BAoTWUk"
      },
      "outputs": [],
      "source": [
        "EA_analytic = lambda x: x**3 - x**2 + 1"
      ]
    },
    {
      "attachments": {},
      "cell_type": "markdown",
      "id": "aj1oXOV3j0oE",
      "metadata": {
        "id": "aj1oXOV3j0oE"
      },
      "source": [
        "3. Problem data are defined. Here the known data like boundary condition and loading conditions are defined"
      ]
    },
    {
      "cell_type": "code",
      "execution_count": 6,
      "id": "wixdAtJckJs0",
      "metadata": {
        "id": "wixdAtJckJs0"
      },
      "outputs": [],
      "source": [
        "distLoad = lambda x: -2*(3*x**2 - 2*x)*math.pi*torch.cos(2*math.pi*x) + 4*(x**3 - x**2 + 1)*math.pi**2*torch.sin(2*math.pi*x)"
      ]
    },
    {
      "attachments": {},
      "cell_type": "markdown",
      "id": "9RzoofTZkNxz",
      "metadata": {
        "id": "9RzoofTZkNxz"
      },
      "source": [
        "4. Next we generate the neural network model using the imported class InversePhysicsInformedBarModel"
      ]
    },
    {
      "cell_type": "code",
      "execution_count": 10,
      "id": "aOK1MmCGkdEA",
      "metadata": {
        "id": "aOK1MmCGkdEA"
      },
      "outputs": [],
      "source": [
        "pinnModel = InversePhysicsInformedBarModel(x, u, L, distLoad) # custom class defined in physicsinformed.py file"
      ]
    },
    {
      "cell_type": "markdown",
      "id": "9YLwGbdpkhxv",
      "metadata": {
        "id": "9YLwGbdpkhxv"
      },
      "source": [
        "5. Next we train our model. The method/function 'train' is defined in the class PhysicsInformedBarModel"
      ]
    },
    {
      "cell_type": "code",
      "execution_count": 11,
      "id": "UKjY96mRkoFa",
      "metadata": {
        "colab": {
          "base_uri": "https://localhost:8080/"
        },
        "id": "UKjY96mRkoFa",
        "outputId": "2a2a8d61-7fb2-4764-bb6e-59c1d0168be5"
      },
      "outputs": [
        {
          "name": "stdout",
          "output_type": "stream",
          "text": [
            "Epoch: 0/499\t\tDifferential equation loss = 20061.244141\t\tTotal loss = 20061.244141\n",
            "Epoch: 100/499\t\tDifferential equation loss = 1.147661\t\tTotal loss = 1.147661\n",
            "Epoch: 200/499\t\tDifferential equation loss = 0.017053\t\tTotal loss = 0.017053\n",
            "Epoch: 300/499\t\tDifferential equation loss = 0.005653\t\tTotal loss = 0.005653\n",
            "Epoch: 400/499\t\tDifferential equation loss = 0.004135\t\tTotal loss = 0.004135\n",
            "Epoch: 499/499\t\tDifferential equation loss = 0.001258\t\tTotal loss = 0.001258\n"
          ]
        }
      ],
      "source": [
        "epochs = 500\n",
        "learningRate = 1e-3\n",
        "weightDecay = 0.1\n",
        "\n",
        "pinnModel.train(epochs, optimizer='LBFGS', lr=learningRate) # function defined in custom class for training"
      ]
    },
    {
      "cell_type": "markdown",
      "id": "1TneSGHGkrCq",
      "metadata": {
        "id": "1TneSGHGkrCq"
      },
      "source": [
        "6. We generate sample test data using utilities library and then predict the displacements at those test points"
      ]
    },
    {
      "cell_type": "code",
      "execution_count": 13,
      "id": "tdUpXT6flc5o",
      "metadata": {
        "id": "tdUpXT6flc5o"
      },
      "outputs": [],
      "source": [
        "samples = 100\n",
        "x_test = generate_grid_1d(L, samples)\n",
        "u_test = u_analytic(x_test)\n",
        "EA_test = pinnModel.predict(x_test,u_test) # function defined in custom class for predicting EA values"
      ]
    },
    {
      "cell_type": "markdown",
      "id": "DUl2FSDzlhnp",
      "metadata": {
        "id": "DUl2FSDzlhnp"
      },
      "source": [
        "7. We plot predicted coefficient (EA) at test points and also the training history"
      ]
    },
    {
      "cell_type": "code",
      "execution_count": 14,
      "id": "8f1125c4",
      "metadata": {
        "colab": {
          "base_uri": "https://localhost:8080/",
          "height": 449
        },
        "id": "8f1125c4",
        "outputId": "9d828aab-daaf-4b73-c158-299eaf4c0f2a"
      },
      "outputs": [],
      "source": [
        "# plot the results and training losses. Refer the pptx file results slide for more information"
      ]
    },
    {
      "cell_type": "code",
      "execution_count": null,
      "id": "baf93563",
      "metadata": {},
      "outputs": [],
      "source": []
    }
  ],
  "metadata": {
    "colab": {
      "name": "PINN_bar_inverse_main.ipynb",
      "provenance": []
    },
    "kernelspec": {
      "display_name": "Python 3 (ipykernel)",
      "language": "python",
      "name": "python3"
    },
    "language_info": {
      "codemirror_mode": {
        "name": "ipython",
        "version": 3
      },
      "file_extension": ".py",
      "mimetype": "text/x-python",
      "name": "python",
      "nbconvert_exporter": "python",
      "pygments_lexer": "ipython3",
      "version": "3.9.7"
    }
  },
  "nbformat": 4,
  "nbformat_minor": 5
}
